{
 "cells": [
  {
   "cell_type": "code",
   "execution_count": null,
   "metadata": {},
   "outputs": [],
   "source": [
    "%load_ext autoreload\n",
    "%autoreload 2"
   ]
  },
  {
   "cell_type": "markdown",
   "metadata": {},
   "source": [
    "# Generation\n",
    "\n",
    "> Efficient generation with flexible stopping criteria\n"
   ]
  },
  {
   "cell_type": "code",
   "execution_count": null,
   "metadata": {},
   "outputs": [],
   "source": [
    "# | hide\n",
    "from nbdev.showdoc import *"
   ]
  },
  {
   "cell_type": "code",
   "execution_count": null,
   "metadata": {},
   "outputs": [],
   "source": [
    "from dart_math.gen import *"
   ]
  },
  {
   "cell_type": "markdown",
   "metadata": {},
   "source": [
    "## Difficulty-Aware Rejection Sampling (with Code Execution) in 5 Lines of Code\n"
   ]
  },
  {
   "cell_type": "markdown",
   "metadata": {},
   "source": [
    "```python\n",
    "from dart_math.data import load_query_dps\n",
    "from dart_math.gen import gen, is_dp_dars_finished\n",
    "from dart_math.eval import EvaluatorMathBatch\n",
    "# ...\n",
    "generator = Generator(llm, sampling_params, resp_sample_cls=RespSampleVLLM, batch_evaluator=(EvaluatorMathBatch() if not args.gen_only else None), code_exec_cfg=CodeExecCfg.load_from_id_or_path(args.code_exec_cfg) if args.code_exec_cfg else None)\n",
    "generator.gen(query_dps=query_dps, dp_stop_criteria=is_dp_dars_finished, save_path=args.gen_save_path, n_paths_per_save=args.save_gen_path_bs)\n",
    "```\n",
    "\n",
    "1. `generator.gen` generates with the vLLM model `llm` using sampling parameters `sampling_params` on query data points `query_dps` until every data point meets the stopping criteria `dp_stop_criteria`.\n",
    "2. Samples are generated in batch and evaluated with `batch_evaluator` if specified.\n",
    "3. Generated samples are saved to `save_path`.\n",
    "\n",
    "For a more detailed usage example, please refer to our [generation script for DART-Math](https://github.com/hkust-nlp/dart-math/blob/main/pipeline/gen.py).\n"
   ]
  },
  {
   "cell_type": "code",
   "execution_count": null,
   "metadata": {},
   "outputs": [
    {
     "data": {
      "text/markdown": [
       "---\n",
       "\n",
       "[source](https://github.com/hkust-nlp/dart-math/blob/main/dart_math/gen.py#LNone){target=\"_blank\" style=\"float:right; font-size:smaller\"}\n",
       "\n",
       "### Generator\n",
       "\n",
       ">      Generator (llm:vllm.entrypoints.llm.LLM,\n",
       ">                 sampling_params:vllm.sampling_params.SamplingParams,\n",
       ">                 resp_sample_cls:type=<class 'dart_math.data.RespSampleVLLM'>,\n",
       ">                 batch_evaluator:dart_math.eval.EvaluatorBatchBase|None=None,\n",
       ">                 code_exec_cfg:dart_math.exec.CodeExecCfg|str|None=None)\n",
       "\n",
       "*Generator with various features such as stopping criteria and code execution.*\n",
       "\n",
       "|    | **Type** | **Default** | **Details** |\n",
       "| -- | -------- | ----------- | ----------- |\n",
       "| llm | LLM |  | The `vllm` model to generate with (or other objects with compatible `generate` interfaces). |\n",
       "| sampling_params | SamplingParams |  | The sampling parameters for the `llm` (or other objects with compatible interfaces).<br>NOTE: `n > 1` might cause bugs in `vllm` for now (0.4.2). |\n",
       "| resp_sample_cls | type | RespSampleVLLM | The class to collect the generated response as. |\n",
       "| batch_evaluator | dart_math.eval.EvaluatorBatchBase \\| None | None | The batch evaluator to evaluate the generated responses. `None` means no evaluation. |\n",
       "| code_exec_cfg | dart_math.exec.CodeExecCfg \\| str \\| None | None | The tool using configuration. |"
      ],
      "text/plain": [
       "---\n",
       "\n",
       "[source](https://github.com/hkust-nlp/dart-math/blob/main/dart_math/gen.py#LNone){target=\"_blank\" style=\"float:right; font-size:smaller\"}\n",
       "\n",
       "### Generator\n",
       "\n",
       ">      Generator (llm:vllm.entrypoints.llm.LLM,\n",
       ">                 sampling_params:vllm.sampling_params.SamplingParams,\n",
       ">                 resp_sample_cls:type=<class 'dart_math.data.RespSampleVLLM'>,\n",
       ">                 batch_evaluator:dart_math.eval.EvaluatorBatchBase|None=None,\n",
       ">                 code_exec_cfg:dart_math.exec.CodeExecCfg|str|None=None)\n",
       "\n",
       "*Generator with various features such as stopping criteria and code execution.*\n",
       "\n",
       "|    | **Type** | **Default** | **Details** |\n",
       "| -- | -------- | ----------- | ----------- |\n",
       "| llm | LLM |  | The `vllm` model to generate with (or other objects with compatible `generate` interfaces). |\n",
       "| sampling_params | SamplingParams |  | The sampling parameters for the `llm` (or other objects with compatible interfaces).<br>NOTE: `n > 1` might cause bugs in `vllm` for now (0.4.2). |\n",
       "| resp_sample_cls | type | RespSampleVLLM | The class to collect the generated response as. |\n",
       "| batch_evaluator | dart_math.eval.EvaluatorBatchBase \\| None | None | The batch evaluator to evaluate the generated responses. `None` means no evaluation. |\n",
       "| code_exec_cfg | dart_math.exec.CodeExecCfg \\| str \\| None | None | The tool using configuration. |"
      ]
     },
     "execution_count": null,
     "metadata": {},
     "output_type": "execute_result"
    }
   ],
   "source": [
    "show_doc(Generator, title_level=3)"
   ]
  },
  {
   "cell_type": "code",
   "execution_count": null,
   "metadata": {},
   "outputs": [
    {
     "data": {
      "text/markdown": [
       "---\n",
       "\n",
       "[source](https://github.com/hkust-nlp/dart-math/blob/main/dart_math/gen.py#LNone){target=\"_blank\" style=\"float:right; font-size:smaller\"}\n",
       "\n",
       "#### Generator.gen\n",
       "\n",
       ">      Generator.gen (query_dps:list[dart_math.data.QueryDataPoint],\n",
       ">                     dp_stop_criteria:Callable[[dart_math.data.QueryDataPoint],\n",
       ">                     bool], save_path:str|None=None,\n",
       ">                     n_paths_per_save:int|None=None)\n",
       "\n",
       "*Generate responses on the given query data points with specified stopping criteria.*\n",
       "\n",
       "|    | **Type** | **Default** | **Details** |\n",
       "| -- | -------- | ----------- | ----------- |\n",
       "| query_dps | list |  | The query-level data points to generate responses on. |\n",
       "| dp_stop_criteria | Callable |  | The function to check if a query data point should be stopped generating on. |\n",
       "| save_path | str \\| None | None | Path to save the generated reponses to. `None` or `\"\"` means no saving. |\n",
       "| n_paths_per_save | int \\| None | None | Response-level samples or `None` if saving. |\n",
       "| **Returns** | **list[dart_math.data.RespSampleBase] \\| None** |  | **The generated responses or `None` if saving.** |"
      ],
      "text/plain": [
       "---\n",
       "\n",
       "[source](https://github.com/hkust-nlp/dart-math/blob/main/dart_math/gen.py#LNone){target=\"_blank\" style=\"float:right; font-size:smaller\"}\n",
       "\n",
       "#### Generator.gen\n",
       "\n",
       ">      Generator.gen (query_dps:list[dart_math.data.QueryDataPoint],\n",
       ">                     dp_stop_criteria:Callable[[dart_math.data.QueryDataPoint],\n",
       ">                     bool], save_path:str|None=None,\n",
       ">                     n_paths_per_save:int|None=None)\n",
       "\n",
       "*Generate responses on the given query data points with specified stopping criteria.*\n",
       "\n",
       "|    | **Type** | **Default** | **Details** |\n",
       "| -- | -------- | ----------- | ----------- |\n",
       "| query_dps | list |  | The query-level data points to generate responses on. |\n",
       "| dp_stop_criteria | Callable |  | The function to check if a query data point should be stopped generating on. |\n",
       "| save_path | str \\| None | None | Path to save the generated reponses to. `None` or `\"\"` means no saving. |\n",
       "| n_paths_per_save | int \\| None | None | Response-level samples or `None` if saving. |\n",
       "| **Returns** | **list[dart_math.data.RespSampleBase] \\| None** |  | **The generated responses or `None` if saving.** |"
      ]
     },
     "execution_count": null,
     "metadata": {},
     "output_type": "execute_result"
    }
   ],
   "source": [
    "show_doc(Generator.gen, title_level=4)"
   ]
  },
  {
   "cell_type": "code",
   "execution_count": null,
   "metadata": {},
   "outputs": [
    {
     "data": {
      "text/markdown": [
       "---\n",
       "\n",
       "[source](https://github.com/hkust-nlp/dart-math/blob/main/dart_math/gen.py#LNone){target=\"_blank\" style=\"float:right; font-size:smaller\"}\n",
       "\n",
       "#### Generator.gen_pure\n",
       "\n",
       ">      Generator.gen_pure (input_strs:list[str])\n",
       "\n",
       "*Code execution only supports one-path generation for now.*\n",
       "\n",
       "|    | **Type** | **Details** |\n",
       "| -- | -------- | ----------- |\n",
       "| input_strs | list | The input strings as direct input to the model. |\n",
       "| **Returns** | **list** | **The generated responses grouped by input strings.** |"
      ],
      "text/plain": [
       "---\n",
       "\n",
       "[source](https://github.com/hkust-nlp/dart-math/blob/main/dart_math/gen.py#LNone){target=\"_blank\" style=\"float:right; font-size:smaller\"}\n",
       "\n",
       "#### Generator.gen_pure\n",
       "\n",
       ">      Generator.gen_pure (input_strs:list[str])\n",
       "\n",
       "*Code execution only supports one-path generation for now.*\n",
       "\n",
       "|    | **Type** | **Details** |\n",
       "| -- | -------- | ----------- |\n",
       "| input_strs | list | The input strings as direct input to the model. |\n",
       "| **Returns** | **list** | **The generated responses grouped by input strings.** |"
      ]
     },
     "execution_count": null,
     "metadata": {},
     "output_type": "execute_result"
    }
   ],
   "source": [
    "show_doc(Generator.gen_pure, title_level=4)"
   ]
  },
  {
   "cell_type": "markdown",
   "metadata": {},
   "source": [
    "## API Reference\n"
   ]
  },
  {
   "cell_type": "markdown",
   "metadata": {},
   "source": [
    "### Data Preprocessing\n"
   ]
  },
  {
   "cell_type": "code",
   "execution_count": null,
   "metadata": {},
   "outputs": [
    {
     "data": {
      "text/markdown": [
       "---\n",
       "\n",
       "[source](https://github.com/hkust-nlp/dart-math/blob/main/dart_math/gen.py#LNone){target=\"_blank\" style=\"float:right; font-size:smaller\"}\n",
       "\n",
       "#### get_icl_egs\n",
       "\n",
       ">      get_icl_egs (dataset:str, n_shots:int=None, model:str|None=None)\n",
       "\n",
       "*Get the ICL examples for the dataset.*\n",
       "\n",
       "|    | **Type** | **Default** | **Details** |\n",
       "| -- | -------- | ----------- | ----------- |\n",
       "| dataset | str |  | Preset dataset ID. |\n",
       "| n_shots | int | None | Number of examples in the few-shot prompt. `None` / Negative means adaptive to the datasets. |\n",
       "| model | str \\| None | None | HF ID or path to the model. |\n",
       "| **Returns** | **list** |  | **ICL examples adaptive to the dataset (and model).** |"
      ],
      "text/plain": [
       "---\n",
       "\n",
       "[source](https://github.com/hkust-nlp/dart-math/blob/main/dart_math/gen.py#LNone){target=\"_blank\" style=\"float:right; font-size:smaller\"}\n",
       "\n",
       "#### get_icl_egs\n",
       "\n",
       ">      get_icl_egs (dataset:str, n_shots:int=None, model:str|None=None)\n",
       "\n",
       "*Get the ICL examples for the dataset.*\n",
       "\n",
       "|    | **Type** | **Default** | **Details** |\n",
       "| -- | -------- | ----------- | ----------- |\n",
       "| dataset | str |  | Preset dataset ID. |\n",
       "| n_shots | int | None | Number of examples in the few-shot prompt. `None` / Negative means adaptive to the datasets. |\n",
       "| model | str \\| None | None | HF ID or path to the model. |\n",
       "| **Returns** | **list** |  | **ICL examples adaptive to the dataset (and model).** |"
      ]
     },
     "execution_count": null,
     "metadata": {},
     "output_type": "execute_result"
    }
   ],
   "source": [
    "show_doc(get_icl_egs, title_level=4)"
   ]
  },
  {
   "cell_type": "markdown",
   "metadata": {},
   "source": [
    "### Stopping Criteria\n"
   ]
  },
  {
   "cell_type": "code",
   "execution_count": null,
   "metadata": {},
   "outputs": [
    {
     "data": {
      "text/markdown": [
       "---\n",
       "\n",
       "[source](https://github.com/hkust-nlp/dart-math/blob/main/dart_math/gen.py#LNone){target=\"_blank\" style=\"float:right; font-size:smaller\"}\n",
       "\n",
       "#### is_dp_dars_finished\n",
       "\n",
       ">      is_dp_dars_finished (dp:dart_math.data.QueryDataPoint)\n",
       "\n",
       "*Judge whether DARS for a data point is finished and return the stopping reason or `None` if not finished.*\n",
       "\n",
       "|    | **Type** | **Details** |\n",
       "| -- | -------- | ----------- |\n",
       "| dp | QueryDataPoint | Query data point having at least the following attributes: `max_n_trials` (and `n_trials`), `min_n_corrects` (and `n_corrects`). |\n",
       "| **Returns** | **str \\| None** | **The stopping reason or `None` if not finished.** |"
      ],
      "text/plain": [
       "---\n",
       "\n",
       "[source](https://github.com/hkust-nlp/dart-math/blob/main/dart_math/gen.py#LNone){target=\"_blank\" style=\"float:right; font-size:smaller\"}\n",
       "\n",
       "#### is_dp_dars_finished\n",
       "\n",
       ">      is_dp_dars_finished (dp:dart_math.data.QueryDataPoint)\n",
       "\n",
       "*Judge whether DARS for a data point is finished and return the stopping reason or `None` if not finished.*\n",
       "\n",
       "|    | **Type** | **Details** |\n",
       "| -- | -------- | ----------- |\n",
       "| dp | QueryDataPoint | Query data point having at least the following attributes: `max_n_trials` (and `n_trials`), `min_n_corrects` (and `n_corrects`). |\n",
       "| **Returns** | **str \\| None** | **The stopping reason or `None` if not finished.** |"
      ]
     },
     "execution_count": null,
     "metadata": {},
     "output_type": "execute_result"
    }
   ],
   "source": [
    "show_doc(is_dp_dars_finished, title_level=4)"
   ]
  },
  {
   "cell_type": "markdown",
   "metadata": {},
   "source": [
    "### IO\n"
   ]
  },
  {
   "cell_type": "code",
   "execution_count": null,
   "metadata": {},
   "outputs": [
    {
     "data": {
      "text/markdown": [
       "---\n",
       "\n",
       "[source](https://github.com/hkust-nlp/dart-math/blob/main/dart_math/gen.py#LNone){target=\"_blank\" style=\"float:right; font-size:smaller\"}\n",
       "\n",
       "#### get_res_fname\n",
       "\n",
       ">      get_res_fname (model_name_or_path:str, max_new_toks:int,\n",
       ">                     temperature:float, top_p:float, prompt_template:str,\n",
       ">                     dataset:str, n_shots:int, tag:str, inf_seed:int)\n",
       "\n",
       "*Get the JSONL file name to save results to.*\n",
       "\n",
       "|    | **Type** | **Details** |\n",
       "| -- | -------- | ----------- |\n",
       "| model_name_or_path | str | HF ID or path to the model. |\n",
       "| max_new_toks | int | Maximum length of the model output in token. |\n",
       "| temperature | float | Temperature for sampling. |\n",
       "| top_p | float | Top-p for sampling. |\n",
       "| prompt_template | str | ID or path to the prompt template. |\n",
       "| dataset | str | Name of the dataset to generate on. |\n",
       "| n_shots | int | Number of egs in few-shot prompt. |\n",
       "| tag | str | Tag describing sample number informantion for the result file. |\n",
       "| inf_seed | int | Seed for randomness. |\n",
       "| **Returns** | **str** | **Path to the result file.** |"
      ],
      "text/plain": [
       "---\n",
       "\n",
       "[source](https://github.com/hkust-nlp/dart-math/blob/main/dart_math/gen.py#LNone){target=\"_blank\" style=\"float:right; font-size:smaller\"}\n",
       "\n",
       "#### get_res_fname\n",
       "\n",
       ">      get_res_fname (model_name_or_path:str, max_new_toks:int,\n",
       ">                     temperature:float, top_p:float, prompt_template:str,\n",
       ">                     dataset:str, n_shots:int, tag:str, inf_seed:int)\n",
       "\n",
       "*Get the JSONL file name to save results to.*\n",
       "\n",
       "|    | **Type** | **Details** |\n",
       "| -- | -------- | ----------- |\n",
       "| model_name_or_path | str | HF ID or path to the model. |\n",
       "| max_new_toks | int | Maximum length of the model output in token. |\n",
       "| temperature | float | Temperature for sampling. |\n",
       "| top_p | float | Top-p for sampling. |\n",
       "| prompt_template | str | ID or path to the prompt template. |\n",
       "| dataset | str | Name of the dataset to generate on. |\n",
       "| n_shots | int | Number of egs in few-shot prompt. |\n",
       "| tag | str | Tag describing sample number informantion for the result file. |\n",
       "| inf_seed | int | Seed for randomness. |\n",
       "| **Returns** | **str** | **Path to the result file.** |"
      ]
     },
     "execution_count": null,
     "metadata": {},
     "output_type": "execute_result"
    }
   ],
   "source": [
    "show_doc(get_res_fname, title_level=4)"
   ]
  }
 ],
 "metadata": {
  "kernelspec": {
   "display_name": "python3",
   "language": "python",
   "name": "python3"
  }
 },
 "nbformat": 4,
 "nbformat_minor": 4
}
