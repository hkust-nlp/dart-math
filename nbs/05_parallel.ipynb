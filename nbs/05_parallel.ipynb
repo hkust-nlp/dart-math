{
 "cells": [
  {
   "cell_type": "code",
   "execution_count": null,
   "metadata": {},
   "outputs": [],
   "source": [
    "%load_ext autoreload\n",
    "%autoreload 2"
   ]
  },
  {
   "cell_type": "markdown",
   "metadata": {},
   "source": [
    "# Parallelism\n",
    "\n",
    "> Parallelism support, including `asyncio`, `threading`, `multiprocessing`, etc.\n"
   ]
  },
  {
   "cell_type": "code",
   "execution_count": null,
   "metadata": {},
   "outputs": [],
   "source": [
    "# | hide\n",
    "from nbdev.showdoc import *"
   ]
  },
  {
   "cell_type": "markdown",
   "metadata": {},
   "source": [
    "## `asyncio` utilities\n"
   ]
  },
  {
   "cell_type": "code",
   "execution_count": null,
   "metadata": {},
   "outputs": [],
   "source": [
    "# | hide\n",
    "from dart_math.parallel import async_wrap"
   ]
  },
  {
   "cell_type": "code",
   "execution_count": null,
   "metadata": {},
   "outputs": [
    {
     "data": {
      "text/markdown": [
       "---\n",
       "\n",
       "[source](https://github.com/hkust-nlp/dart-math/blob/main/dart_math/parallel.py#LNone){target=\"_blank\" style=\"float:right; font-size:smaller\"}\n",
       "\n",
       "### async_wrap\n",
       "\n",
       ">      async_wrap (func:Callable)\n",
       "\n",
       "*Wrap a synchronous function `func` into an asynchronous function.*"
      ],
      "text/plain": [
       "---\n",
       "\n",
       "[source](https://github.com/hkust-nlp/dart-math/blob/main/dart_math/parallel.py#LNone){target=\"_blank\" style=\"float:right; font-size:smaller\"}\n",
       "\n",
       "### async_wrap\n",
       "\n",
       ">      async_wrap (func:Callable)\n",
       "\n",
       "*Wrap a synchronous function `func` into an asynchronous function.*"
      ]
     },
     "execution_count": null,
     "metadata": {},
     "output_type": "execute_result"
    }
   ],
   "source": [
    "show_doc(async_wrap, title_level=3)"
   ]
  },
  {
   "cell_type": "markdown",
   "metadata": {},
   "source": [
    "## Timeout\n",
    "\n",
    "> Based on `asyncio`\n"
   ]
  },
  {
   "cell_type": "code",
   "execution_count": null,
   "metadata": {},
   "outputs": [],
   "source": [
    "# | hide\n",
    "from dart_math.parallel import seq_consume_preset_queue_w_each_timeout"
   ]
  },
  {
   "cell_type": "code",
   "execution_count": null,
   "metadata": {},
   "outputs": [
    {
     "data": {
      "text/markdown": [
       "---\n",
       "\n",
       "[source](https://github.com/hkust-nlp/dart-math/blob/main/dart_math/parallel.py#LNone){target=\"_blank\" style=\"float:right; font-size:smaller\"}\n",
       "\n",
       "### seq_consume_preset_queue_w_each_timeout\n",
       "\n",
       ">      seq_consume_preset_queue_w_each_timeout (consumer:Callable, idxed_kwargs_\n",
       ">                                               queue:_queue.SimpleQueue|multipr\n",
       ">                                               ocessing.queues.SimpleQueue|list\n",
       ">                                               , timeout:int=5,\n",
       ">                                               pbar:tqdm.std.tqdm=None)\n",
       "\n",
       "*Sequentially run computation-intensive `consumer` along a preset (no more input) indexed task `idxed_kwargs_queue` with each task having `timeout`.\n",
       "`queue.SimpleQueue` is not thread-safe, don't run multiple consumers in the same process.\n",
       "However, `multiprocessing.SimpleQueue` is process-safe based on pipe, you can run multiple consumers in the same number of processes.*\n",
       "\n",
       "|    | **Type** | **Default** | **Details** |\n",
       "| -- | -------- | ----------- | ----------- |\n",
       "| consumer | Callable |  | An `Awaitable` coroutine function. |\n",
       "| idxed_kwargs_queue | _queue.SimpleQueue \\| multiprocessing.queues.SimpleQueue \\| list |  | Indexed kwargs queue, comprising elements like `(idx, kwargs)`.<br>For the weird `type` hint, refer to https://github.com/python/cpython/issues/99509 |\n",
       "| timeout | int | 5 | Timeout for each task. |\n",
       "| pbar | tqdm | None | Progress bar to update. `None` means no progress bar. |\n",
       "| **Returns** | **list** |  | **Indexed return values, comprising elements like `(idx, retval)`.** |"
      ],
      "text/plain": [
       "---\n",
       "\n",
       "[source](https://github.com/hkust-nlp/dart-math/blob/main/dart_math/parallel.py#LNone){target=\"_blank\" style=\"float:right; font-size:smaller\"}\n",
       "\n",
       "### seq_consume_preset_queue_w_each_timeout\n",
       "\n",
       ">      seq_consume_preset_queue_w_each_timeout (consumer:Callable, idxed_kwargs_\n",
       ">                                               queue:_queue.SimpleQueue|multipr\n",
       ">                                               ocessing.queues.SimpleQueue|list\n",
       ">                                               , timeout:int=5,\n",
       ">                                               pbar:tqdm.std.tqdm=None)\n",
       "\n",
       "*Sequentially run computation-intensive `consumer` along a preset (no more input) indexed task `idxed_kwargs_queue` with each task having `timeout`.\n",
       "`queue.SimpleQueue` is not thread-safe, don't run multiple consumers in the same process.\n",
       "However, `multiprocessing.SimpleQueue` is process-safe based on pipe, you can run multiple consumers in the same number of processes.*\n",
       "\n",
       "|    | **Type** | **Default** | **Details** |\n",
       "| -- | -------- | ----------- | ----------- |\n",
       "| consumer | Callable |  | An `Awaitable` coroutine function. |\n",
       "| idxed_kwargs_queue | _queue.SimpleQueue \\| multiprocessing.queues.SimpleQueue \\| list |  | Indexed kwargs queue, comprising elements like `(idx, kwargs)`.<br>For the weird `type` hint, refer to https://github.com/python/cpython/issues/99509 |\n",
       "| timeout | int | 5 | Timeout for each task. |\n",
       "| pbar | tqdm | None | Progress bar to update. `None` means no progress bar. |\n",
       "| **Returns** | **list** |  | **Indexed return values, comprising elements like `(idx, retval)`.** |"
      ]
     },
     "execution_count": null,
     "metadata": {},
     "output_type": "execute_result"
    }
   ],
   "source": [
    "show_doc(seq_consume_preset_queue_w_each_timeout, title_level=3)"
   ]
  }
 ],
 "metadata": {
  "kernelspec": {
   "display_name": "python3",
   "language": "python",
   "name": "python3"
  }
 },
 "nbformat": 4,
 "nbformat_minor": 4
}
