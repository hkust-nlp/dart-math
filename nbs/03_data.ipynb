{
 "cells": [
  {
   "cell_type": "code",
   "execution_count": null,
   "metadata": {},
   "outputs": [],
   "source": [
    "%load_ext autoreload\n",
    "%autoreload 2"
   ]
  },
  {
   "cell_type": "markdown",
   "metadata": {},
   "source": [
    "# Datasets\n",
    "\n",
    "> Various (math evaluation) datasets\n"
   ]
  },
  {
   "cell_type": "code",
   "execution_count": null,
   "metadata": {},
   "outputs": [],
   "source": [
    "# | hide\n",
    "from nbdev.showdoc import *"
   ]
  },
  {
   "cell_type": "code",
   "execution_count": null,
   "metadata": {},
   "outputs": [],
   "source": [
    "from dart_math.data import *"
   ]
  },
  {
   "cell_type": "markdown",
   "metadata": {},
   "source": [
    "Preset datasets so far:\n",
    "\n",
    "| Dataset                                                                                                                                | ID                                    | Size | Stored At                                                                                                                | Source                                                                                                                                      |\n",
    "| -------------------------------------------------------------------------------------------------------------------------------------- | ------------------------------------- | ---: | ------------------------------------------------------------------------------------------------------------------------ | ------------------------------------------------------------------------------------------------------------------------------------------- |\n",
    "| [MATH](https://datasets-benchmarks-proceedings.neurips.cc/paper/2021/hash/be83ab3ecd0db773eb2dc1b0a17836a1-Abstract-round2.html)/Test  | `\"math-test\"`                         | 5000 | 🤗 [HuggingFace](https://huggingface.co/datasets/hendrycks/competition_math)                                             | 🤗 [hendrycks/competition_math](https://huggingface.co/datasets/hendrycks/competition_math)                                                 |\n",
    "| [MATH](https://datasets-benchmarks-proceedings.neurips.cc/paper/2021/hash/be83ab3ecd0db773eb2dc1b0a17836a1-Abstract-round2.html)/Train | `\"math-train\"`                        | 7500 | 🤗 [HuggingFace](https://huggingface.co/datasets/hendrycks/competition_math)                                             | 🤗 [hendrycks/competition_math](https://huggingface.co/datasets/hendrycks/competition_math)                                                 |\n",
    "| [GSM8K](https://arxiv.org/abs/2110.14168)/Test                                                                                         | `\"gsm8k-test\"`                        | 1319 | 🤗 [HuggingFace](https://huggingface.co/datasets/openai/gsm8k)                                                           | 🤗 [gsm8k](https://huggingface.co/datasets/openai/gsm8k)                                                                                    |\n",
    "| [GSM8K](https://arxiv.org/abs/2110.14168)/Train                                                                                        | `\"gsm8k-train\"`                       | 7473 | 🤗 [HuggingFace](https://huggingface.co/datasets/openai/gsm8k)                                                           | 🤗 [gsm8k](https://huggingface.co/datasets/openai/gsm8k)                                                                                    |\n",
    "| [MWPBench](https://github.com/microsoft/unilm/tree/master/mathscale/MWPBench)/CollegeMath/Test                                         | `\"mwpbench/college-math-test\"`        | 2818 | 🎯 [dart/data/dsets](https://github.com/hkust-nlp/dart-math/blob/main/data/dsets/mwpbench/college-math-test.jsonl)       | 🐱 [microsoft/unilm/mathscale/MWPBench](https://github.com/microsoft/unilm/blob/master/mathscale/MWPBench/data/full_train.json)             |\n",
    "| [MWPBench](https://github.com/microsoft/unilm/tree/master/mathscale/MWPBench)/CollegeMath/Train                                        | `\"mwpbench/college-math-train\"`       | 1281 | 🎯 [dart/data/dsets](https://github.com/hkust-nlp/dart-math/blob/main/data/dsets/mwpbench/college-math-train.jsonl)      | 🐱 [microsoft/unilm/mathscale/MWPBench](https://github.com/microsoft/unilm/blob/master/mathscale/MWPBench/data/full_test.json)              |\n",
    "| [MWPBench](https://github.com/microsoft/unilm/tree/master/mathscale/MWPBench)/GaokaoBench                                              | `\"mwpbench/gaokaobench\"`              |  508 | 🎯 [dart/data/dsets](https://github.com/hkust-nlp/dart-math/blob/main/data/dsets/mwpbench/gaokaobench.jsonl)             | 🐱 [microsoft/unilm/mathscale/MWPBench](https://github.com/microsoft/unilm/blob/master/mathscale/MWPBench/data/full_test.json)              |\n",
    "| [MWPBench](https://github.com/microsoft/unilm/tree/master/mathscale/MWPBench)/FreshGaokaoMath2023                                      | `\"mwpbench/fresh-gaokao-math-2023\"`   |   30 | 🎯 [dart/data/dsets](https://github.com/hkust-nlp/dart-math/blob/main/data/dsets/mwpbench/fresh-gaokao-math-2023.jsonl)  | 🐱 [microsoft/unilm/mathscale/MWPBench](https://github.com/microsoft/unilm/blob/master/mathscale/MWPBench/data/fresh_gaokao_math_2023.json) |\n",
    "| [DeepMind Mathematics](https://openreview.net/forum?id=H1gR5iR5FX)                                                                     | `\"deepmind-mathematics\"`              | 1000 | 🎯 [dart/data/dsets](https://github.com/hkust-nlp/dart-math/blob/main/data/dsets/deepmind-mathematics.json)              | 🐱 [google-deepmind/mathematics_dataset](https://github.com/google-deepmind/mathematics_dataset)                                            |\n",
    "| [OlympiadBench-Math](https://arxiv.org/abs/2402.14008)                                                                                 | `\"olympiadbench/OE_TO_maths_en_COMP\"` |  675 | 🎯 [dart/data/dsets](https://github.com/hkust-nlp/dart-math/blob/main/data/dsets/olympiadbench/OE_TO_maths_en_COMP.json) | 🐱 [OpenBMB/OlympiadBench](https://github.com/OpenBMB/OlympiadBench)                                                                        |\n",
    "| [TheoremQA](https://aclanthology.org/2023.emnlp-main.489/)                                                                             | `\"theoremqa\"`                         |  800 | 🎯 [dart/data/dsets](https://github.com/hkust-nlp/dart-math/blob/main/data/dsets/theoremqa.json)                         | 🐱 [TIGER-AI-Lab/TheoremQA](https://github.com/TIGER-AI-Lab/TheoremQA/blob/main/theoremqa_test.json)                                        |\n",
    "| [Odyssey-Math](https://github.com/protagolabs/odyssey-math/tree/main)                                                                  | `\"odyssey-math\"`                      |  386 | 🎯 [dart/data/dsets](https://github.com/hkust-nlp/dart-math/blob/main/data/dsets/odyssey-math.jsonl)                     | 🐱 [protagolabs/odyssey-math](https://github.com/protagolabs/odyssey-math/blob/main/final-odyssey-math-with-levels.jsonl)                   |\n",
    "| [AOPS](https://artofproblemsolving.com/wiki/index.php)                                                                                 | `\"aops\"`                              | 3886 | 🎯 [dart/data/dsets](https://github.com/hkust-nlp/dart-math/blob/main/data/dsets/aops.jsonl)                             | 🌐 [AOPS](https://artofproblemsolving.com/wiki/index.php)                                                                                   |\n",
    "\n",
    "For other datasets, please refer to `load_query_dps` to add by yourself.\n"
   ]
  },
  {
   "cell_type": "code",
   "execution_count": null,
   "metadata": {},
   "outputs": [],
   "source": [
    "show_doc(load_query_dps, title_level=3)"
   ]
  },
  {
   "cell_type": "markdown",
   "metadata": {},
   "source": [
    "## Unified Data Templates\n"
   ]
  },
  {
   "cell_type": "markdown",
   "metadata": {},
   "source": [
    "We unify the data format across `dart`.\n"
   ]
  },
  {
   "cell_type": "code",
   "execution_count": null,
   "metadata": {},
   "outputs": [],
   "source": [
    "show_doc(QueryDataPoint, title_level=3)"
   ]
  },
  {
   "cell_type": "code",
   "execution_count": null,
   "metadata": {},
   "outputs": [],
   "source": [
    "show_doc(RespSampleBase, title_level=3)"
   ]
  },
  {
   "cell_type": "code",
   "execution_count": null,
   "metadata": {},
   "outputs": [],
   "source": [
    "show_doc(RespSampleVLLM, title_level=3)"
   ]
  }
 ],
 "metadata": {
  "kernelspec": {
   "display_name": "python3",
   "language": "python",
   "name": "python3"
  }
 },
 "nbformat": 4,
 "nbformat_minor": 4
}
