{
 "cells": [
  {
   "cell_type": "code",
   "execution_count": null,
   "metadata": {},
   "outputs": [],
   "source": [
    "%load_ext autoreload\n",
    "%autoreload 2"
   ]
  },
  {
   "cell_type": "markdown",
   "metadata": {},
   "source": [
    "# Datasets \n",
    "\n",
    "> Various (math evaluation) datasets"
   ]
  },
  {
   "cell_type": "code",
   "execution_count": null,
   "metadata": {},
   "outputs": [],
   "source": [
    "# | hide\n",
    "from nbdev.showdoc import *"
   ]
  },
  {
   "cell_type": "code",
   "execution_count": null,
   "metadata": {},
   "outputs": [],
   "source": [
    "from dart_math.data import *"
   ]
  },
  {
   "cell_type": "markdown",
   "metadata": {},
   "source": [
    "Preset datasets so far:\n",
    "\n",
    "\n",
    "| Dataset                                                                                                                          | ID                                    | Stored At                                                                                                                    |\n",
    "| -------------------------------------------------------------------------------------------------------------------------------- | ------------------------------------- | ---------------------------------------------------------------------------------------------------------------------------- |\n",
    "| [MATH](https://datasets-benchmarks-proceedings.neurips.cc/paper/2021/hash/be83ab3ecd0db773eb2dc1b0a17836a1-Abstract-round2.html) | `\"math-train\"` / `\"math-test\"`        | [🤗HuggingFace](https://huggingface.co/datasets/hendrycks/competition_math)                                                  |\n",
    "| [GSM8K](https://arxiv.org/abs/2110.14168)                                                                                        | `\"gsm8k-train\"` / `\"gsm8k-test\"`      | [🤗HuggingFace](https://huggingface.co/datasets/openai/gsm8k)                                                                |\n",
    "| [MWPBench](https://github.com/microsoft/unilm/tree/master/mathscale/MWPBench)/CollegeMath/Test                                   | `\"mwpbench/college-math-test\"`        | [🎯dart/data/eval-dsets](https://github.com/hkust-nlp/dart-math/blob/main/data/eval-dsets/mwpbench/college-math-test.jsonl)  |\n",
    "| [DeepMind Mathematics](https://openreview.net/forum?id=H1gR5iR5FX)                                                               | `\"deepmind-mathematics\"`              | [🎯dart/data/eval-dsets](https://github.com/hkust-nlp/dart-math/blob/main/data/eval-dsets/deepmind-mathematics)              |\n",
    "| [OlympiadBench-Math](https://arxiv.org/abs/2402.14008)                                                                           | `\"olympiadbench/OE_TO_maths_en_COMP\"` | [🎯dart/data/eval-dsets](https://github.com/hkust-nlp/dart-math/blob/main/data/eval-dsets/olympiadbench/OE_TO_maths_en_COMP) |\n",
    "| [TheoremQA](https://aclanthology.org/2023.emnlp-main.489/)                                                                       | `\"theoremqa\"`                         | [🎯dart/data/eval-dsets](https://github.com/hkust-nlp/dart-math/blob/main/data/eval-dsets/theoremqa)                         |\n",
    "\n",
    "For other datasets, please refer to `load_query_dps` to add by yourself."
   ]
  },
  {
   "cell_type": "code",
   "execution_count": null,
   "metadata": {},
   "outputs": [],
   "source": [
    "show_doc(load_query_dps, title_level=3)"
   ]
  },
  {
   "cell_type": "markdown",
   "metadata": {},
   "source": [
    "## Unified Data Templates"
   ]
  },
  {
   "cell_type": "markdown",
   "metadata": {},
   "source": [
    "We unify the data format across `dart`."
   ]
  },
  {
   "cell_type": "code",
   "execution_count": null,
   "metadata": {},
   "outputs": [],
   "source": [
    "show_doc(QueryDataPoint, title_level=3)"
   ]
  },
  {
   "cell_type": "code",
   "execution_count": null,
   "metadata": {},
   "outputs": [],
   "source": [
    "show_doc(RespSampleBase, title_level=3)"
   ]
  },
  {
   "cell_type": "code",
   "execution_count": null,
   "metadata": {},
   "outputs": [],
   "source": [
    "show_doc(RespSampleVLLM, title_level=3)"
   ]
  }
 ],
 "metadata": {
  "kernelspec": {
   "display_name": "python3",
   "language": "python",
   "name": "python3"
  }
 },
 "nbformat": 4,
 "nbformat_minor": 4
}
