{
 "cells": [
  {
   "cell_type": "code",
   "execution_count": null,
   "metadata": {},
   "outputs": [],
   "source": [
    "%load_ext autoreload\n",
    "%autoreload 2"
   ]
  },
  {
   "cell_type": "markdown",
   "metadata": {},
   "source": [
    "# Utilities\n",
    "\n",
    "> Utitlities shared by multiple modules or not belonging to any module.\n"
   ]
  },
  {
   "cell_type": "code",
   "execution_count": null,
   "metadata": {},
   "outputs": [],
   "source": [
    "# | hide\n",
    "from nbdev.showdoc import *"
   ]
  },
  {
   "cell_type": "code",
   "execution_count": null,
   "metadata": {},
   "outputs": [],
   "source": [
    "from dart_math.utils import *"
   ]
  },
  {
   "cell_type": "markdown",
   "metadata": {},
   "source": [
    "## Prompt\n"
   ]
  },
  {
   "cell_type": "code",
   "execution_count": null,
   "metadata": {},
   "outputs": [
    {
     "data": {
      "text/markdown": [
       "---\n",
       "\n",
       "[source](https://github.com/hkust-nlp/dart-math/blob/main/dart_math/utils.py#LNone){target=\"_blank\" style=\"float:right; font-size:smaller\"}\n",
       "\n",
       "### PromptTemplate\n",
       "\n",
       ">      PromptTemplate (id:str='alpaca', sys_prompt:str='Below is an instruction\n",
       ">                      that describes a task. Write a response that\n",
       ">                      appropriately completes the request.\\n\\n',\n",
       ">                      query_prompt:str='### Instruction:\\n',\n",
       ">                      prompt_after_query:str='\\n\\n', resp_prompt:str='###\n",
       ">                      Response:\\n', prompt_before_resp:str='',\n",
       ">                      delim:str='\\n\\n')\n",
       "\n",
       "*Prompt template.\n",
       "The complete prompt is in the form `{sys_prompt}{eg_qa1}{delim}{eg_qa2}{delim}...{delim}{eg_qaN}{delim}{query_prompt}{query}{prompt_after_query}{resp_prompt}{prompt_before_resp}`.\n",
       "default: PROMPT_TEMPLATE_ID2DICT[\"alpaca\"]*\n",
       "\n",
       "|    | **Type** | **Default** | **Details** |\n",
       "| -- | -------- | ----------- | ----------- |\n",
       "| id | str | alpaca | Short name as ID of the prompt template, like \"alpaca\". |\n",
       "| sys_prompt | str | Below is an instruction that describes a task. Write a response that appropriately completes the request.<br><br> | System prompt as the beginning of the full prompt. |\n",
       "| query_prompt | str | ### Instruction:<br> | Simple prompt as delimiter between response and new query. |\n",
       "| prompt_after_query | str | <br><br> | Prompt to append after the raw query, like \"Let's think step by step.\". |\n",
       "| resp_prompt | str | ### Response:<br> | Simple prompt as delimiter between query and response. |\n",
       "| prompt_before_resp | str |  |  |\n",
       "| delim | str | <br><br> | Delimiter between query-response pairs. |"
      ],
      "text/plain": [
       "---\n",
       "\n",
       "[source](https://github.com/hkust-nlp/dart-math/blob/main/dart_math/utils.py#LNone){target=\"_blank\" style=\"float:right; font-size:smaller\"}\n",
       "\n",
       "### PromptTemplate\n",
       "\n",
       ">      PromptTemplate (id:str='alpaca', sys_prompt:str='Below is an instruction\n",
       ">                      that describes a task. Write a response that\n",
       ">                      appropriately completes the request.\\n\\n',\n",
       ">                      query_prompt:str='### Instruction:\\n',\n",
       ">                      prompt_after_query:str='\\n\\n', resp_prompt:str='###\n",
       ">                      Response:\\n', prompt_before_resp:str='',\n",
       ">                      delim:str='\\n\\n')\n",
       "\n",
       "*Prompt template.\n",
       "The complete prompt is in the form `{sys_prompt}{eg_qa1}{delim}{eg_qa2}{delim}...{delim}{eg_qaN}{delim}{query_prompt}{query}{prompt_after_query}{resp_prompt}{prompt_before_resp}`.\n",
       "default: PROMPT_TEMPLATE_ID2DICT[\"alpaca\"]*\n",
       "\n",
       "|    | **Type** | **Default** | **Details** |\n",
       "| -- | -------- | ----------- | ----------- |\n",
       "| id | str | alpaca | Short name as ID of the prompt template, like \"alpaca\". |\n",
       "| sys_prompt | str | Below is an instruction that describes a task. Write a response that appropriately completes the request.<br><br> | System prompt as the beginning of the full prompt. |\n",
       "| query_prompt | str | ### Instruction:<br> | Simple prompt as delimiter between response and new query. |\n",
       "| prompt_after_query | str | <br><br> | Prompt to append after the raw query, like \"Let's think step by step.\". |\n",
       "| resp_prompt | str | ### Response:<br> | Simple prompt as delimiter between query and response. |\n",
       "| prompt_before_resp | str |  |  |\n",
       "| delim | str | <br><br> | Delimiter between query-response pairs. |"
      ]
     },
     "execution_count": null,
     "metadata": {},
     "output_type": "execute_result"
    }
   ],
   "source": [
    "show_doc(PromptTemplate, title_level=3)"
   ]
  },
  {
   "cell_type": "code",
   "execution_count": null,
   "metadata": {},
   "outputs": [
    {
     "data": {
      "text/markdown": [
       "---\n",
       "\n",
       "[source](https://github.com/hkust-nlp/dart-math/blob/main/dart_math/utils.py#LNone){target=\"_blank\" style=\"float:right; font-size:smaller\"}\n",
       "\n",
       "#### PromptTemplate.load_from_id_or_path\n",
       "\n",
       ">      PromptTemplate.load_from_id_or_path (prompt_template:str='alpaca')\n",
       "\n",
       "*Load prompt template from ID or file path.*"
      ],
      "text/plain": [
       "---\n",
       "\n",
       "[source](https://github.com/hkust-nlp/dart-math/blob/main/dart_math/utils.py#LNone){target=\"_blank\" style=\"float:right; font-size:smaller\"}\n",
       "\n",
       "#### PromptTemplate.load_from_id_or_path\n",
       "\n",
       ">      PromptTemplate.load_from_id_or_path (prompt_template:str='alpaca')\n",
       "\n",
       "*Load prompt template from ID or file path.*"
      ]
     },
     "execution_count": null,
     "metadata": {},
     "output_type": "execute_result"
    }
   ],
   "source": [
    "show_doc(PromptTemplate.load_from_id_or_path, title_level=4)"
   ]
  },
  {
   "cell_type": "code",
   "execution_count": null,
   "metadata": {},
   "outputs": [
    {
     "data": {
      "text/markdown": [
       "---\n",
       "\n",
       "[source](https://github.com/hkust-nlp/dart-math/blob/main/dart_math/utils.py#LNone){target=\"_blank\" style=\"float:right; font-size:smaller\"}\n",
       "\n",
       "#### PromptTemplate.get_prompt_template_from_prompt_type_and_model\n",
       "\n",
       ">      PromptTemplate.get_prompt_template_from_prompt_type_and_model\n",
       ">                                                                     (prompt_ty\n",
       ">                                                                     pe:str, mo\n",
       ">                                                                     del_name_o\n",
       ">                                                                     r_path:str\n",
       ">                                                                     )\n",
       "\n",
       "*Get the prompt template suitable for the model.*\n",
       "\n",
       "|    | **Type** | **Details** |\n",
       "| -- | -------- | ----------- |\n",
       "| prompt_type | str | Prompt type, like \"cot\" or \"tool\". |\n",
       "| model_name_or_path | str | HF ID or path to the model. |\n",
       "| **Returns** | **PromptTemplate** | **The prompt template suitable for the model.** |"
      ],
      "text/plain": [
       "---\n",
       "\n",
       "[source](https://github.com/hkust-nlp/dart-math/blob/main/dart_math/utils.py#LNone){target=\"_blank\" style=\"float:right; font-size:smaller\"}\n",
       "\n",
       "#### PromptTemplate.get_prompt_template_from_prompt_type_and_model\n",
       "\n",
       ">      PromptTemplate.get_prompt_template_from_prompt_type_and_model\n",
       ">                                                                     (prompt_ty\n",
       ">                                                                     pe:str, mo\n",
       ">                                                                     del_name_o\n",
       ">                                                                     r_path:str\n",
       ">                                                                     )\n",
       "\n",
       "*Get the prompt template suitable for the model.*\n",
       "\n",
       "|    | **Type** | **Details** |\n",
       "| -- | -------- | ----------- |\n",
       "| prompt_type | str | Prompt type, like \"cot\" or \"tool\". |\n",
       "| model_name_or_path | str | HF ID or path to the model. |\n",
       "| **Returns** | **PromptTemplate** | **The prompt template suitable for the model.** |"
      ]
     },
     "execution_count": null,
     "metadata": {},
     "output_type": "execute_result"
    }
   ],
   "source": [
    "show_doc(PromptTemplate.get_prompt_template_from_prompt_type_and_model, title_level=4)"
   ]
  },
  {
   "cell_type": "code",
   "execution_count": null,
   "metadata": {},
   "outputs": [
    {
     "data": {
      "text/markdown": [
       "---\n",
       "\n",
       "[source](https://github.com/hkust-nlp/dart-math/blob/main/dart_math/utils.py#LNone){target=\"_blank\" style=\"float:right; font-size:smaller\"}\n",
       "\n",
       "#### PromptTemplate.make_qa_pair\n",
       "\n",
       ">      PromptTemplate.make_qa_pair (query:str, response:str)\n",
       "\n",
       "*Make a QA pair of `{query_prompt}{query}{prompt_after_query}{resp_prompt}{prompt_before_resp}{response}`.*"
      ],
      "text/plain": [
       "---\n",
       "\n",
       "[source](https://github.com/hkust-nlp/dart-math/blob/main/dart_math/utils.py#LNone){target=\"_blank\" style=\"float:right; font-size:smaller\"}\n",
       "\n",
       "#### PromptTemplate.make_qa_pair\n",
       "\n",
       ">      PromptTemplate.make_qa_pair (query:str, response:str)\n",
       "\n",
       "*Make a QA pair of `{query_prompt}{query}{prompt_after_query}{resp_prompt}{prompt_before_resp}{response}`.*"
      ]
     },
     "execution_count": null,
     "metadata": {},
     "output_type": "execute_result"
    }
   ],
   "source": [
    "show_doc(PromptTemplate.make_qa_pair, title_level=4)"
   ]
  },
  {
   "cell_type": "code",
   "execution_count": null,
   "metadata": {},
   "outputs": [
    {
     "data": {
      "text/markdown": [
       "---\n",
       "\n",
       "[source](https://github.com/hkust-nlp/dart-math/blob/main/dart_math/utils.py#LNone){target=\"_blank\" style=\"float:right; font-size:smaller\"}\n",
       "\n",
       "#### PromptTemplate.make_full_prompt\n",
       "\n",
       ">      PromptTemplate.make_full_prompt (query:str,\n",
       ">                                       eg_qas:list[tuple[str,str]]=[])\n",
       "\n",
       "*Make full prompt as input to the model.\n",
       "Format: f\"{sys_prompt}{eg_qa1}{eg_qa2}...{eg_qaN}{query_prompt}{query}{prompt_after_query}{resp_prompt}{prompt_before_resp}\".*"
      ],
      "text/plain": [
       "---\n",
       "\n",
       "[source](https://github.com/hkust-nlp/dart-math/blob/main/dart_math/utils.py#LNone){target=\"_blank\" style=\"float:right; font-size:smaller\"}\n",
       "\n",
       "#### PromptTemplate.make_full_prompt\n",
       "\n",
       ">      PromptTemplate.make_full_prompt (query:str,\n",
       ">                                       eg_qas:list[tuple[str,str]]=[])\n",
       "\n",
       "*Make full prompt as input to the model.\n",
       "Format: f\"{sys_prompt}{eg_qa1}{eg_qa2}...{eg_qaN}{query_prompt}{query}{prompt_after_query}{resp_prompt}{prompt_before_resp}\".*"
      ]
     },
     "execution_count": null,
     "metadata": {},
     "output_type": "execute_result"
    }
   ],
   "source": [
    "show_doc(PromptTemplate.make_full_prompt, title_level=4)"
   ]
  },
  {
   "cell_type": "markdown",
   "metadata": {},
   "source": [
    "#### Examples\n"
   ]
  },
  {
   "cell_type": "code",
   "execution_count": null,
   "metadata": {},
   "outputs": [],
   "source": [
    "deepseekmath_prompt_template = PromptTemplate.load_from_id_or_path(\"deepseekmath\")"
   ]
  },
  {
   "cell_type": "code",
   "execution_count": null,
   "metadata": {},
   "outputs": [
    {
     "data": {
      "text/plain": [
       "'User: What is 2+2?\\nPlease reason step by step, and put your final answer within \\\\boxed{}.\\n\\nAssistant: '"
      ]
     },
     "execution_count": null,
     "metadata": {},
     "output_type": "execute_result"
    }
   ],
   "source": [
    "deepseekmath_prompt_template.make_full_prompt(\"What is 2+2?\")"
   ]
  },
  {
   "cell_type": "code",
   "execution_count": null,
   "metadata": {},
   "outputs": [
    {
     "data": {
      "text/plain": [
       "'User: What is 1+1?\\nPlease reason step by step, and put your final answer within \\\\boxed{}.\\n\\nAssistant: 2<｜end▁of▁sentence｜>User: What is 2+2?\\nPlease reason step by step, and put your final answer within \\\\boxed{}.\\n\\nAssistant: '"
      ]
     },
     "execution_count": null,
     "metadata": {},
     "output_type": "execute_result"
    }
   ],
   "source": [
    "deepseekmath_prompt_template.make_full_prompt(\"What is 2+2?\", [(\"What is 1+1?\", \"2\")])"
   ]
  },
  {
   "cell_type": "markdown",
   "metadata": {},
   "source": [
    "## Logging\n"
   ]
  },
  {
   "cell_type": "code",
   "execution_count": null,
   "metadata": {},
   "outputs": [
    {
     "data": {
      "text/markdown": [
       "---\n",
       "\n",
       "[source](https://github.com/hkust-nlp/dart-math/blob/main/dart_math/utils.py#LNone){target=\"_blank\" style=\"float:right; font-size:smaller\"}\n",
       "\n",
       "### init_logging\n",
       "\n",
       ">      init_logging (log_path:str=None, format:str='[%(levelname)s]\n",
       ">                    [%(asctime)s.%(msecs)d] [pid %(process)d]\n",
       ">                    [%(pathname)s:%(lineno)d:%(funcName)s]\\n%(message)s',\n",
       ">                    datefmt:str='%Y-%m-%d %H:%M:%S', level:int=20,\n",
       ">                    force:bool=True)\n",
       "\n",
       "*Initialize logging configuration.*\n",
       "\n",
       "|    | **Type** | **Default** | **Details** |\n",
       "| -- | -------- | ----------- | ----------- |\n",
       "| log_path | str | None |     File path to save log to.<br>format : str, default: \"[%(levelname)s] [%(asctime)s.%(msecs)d] [pid %(process)d] [%(pathname)s:%(lineno)d:%(funcName)s] |\n",
       "| format | str | [%(levelname)s] [%(asctime)s.%(msecs)d] [pid %(process)d] [%(pathname)s:%(lineno)d:%(funcName)s]<br>%(message)s | Logging format |\n",
       "| datefmt | str | %Y-%m-%d %H:%M:%S |  |\n",
       "| level | int | 20 |  |\n",
       "| force | bool | True |  |\n",
       "| **Returns** | **None** |  |  |"
      ],
      "text/plain": [
       "---\n",
       "\n",
       "[source](https://github.com/hkust-nlp/dart-math/blob/main/dart_math/utils.py#LNone){target=\"_blank\" style=\"float:right; font-size:smaller\"}\n",
       "\n",
       "### init_logging\n",
       "\n",
       ">      init_logging (log_path:str=None, format:str='[%(levelname)s]\n",
       ">                    [%(asctime)s.%(msecs)d] [pid %(process)d]\n",
       ">                    [%(pathname)s:%(lineno)d:%(funcName)s]\\n%(message)s',\n",
       ">                    datefmt:str='%Y-%m-%d %H:%M:%S', level:int=20,\n",
       ">                    force:bool=True)\n",
       "\n",
       "*Initialize logging configuration.*\n",
       "\n",
       "|    | **Type** | **Default** | **Details** |\n",
       "| -- | -------- | ----------- | ----------- |\n",
       "| log_path | str | None |     File path to save log to.<br>format : str, default: \"[%(levelname)s] [%(asctime)s.%(msecs)d] [pid %(process)d] [%(pathname)s:%(lineno)d:%(funcName)s] |\n",
       "| format | str | [%(levelname)s] [%(asctime)s.%(msecs)d] [pid %(process)d] [%(pathname)s:%(lineno)d:%(funcName)s]<br>%(message)s | Logging format |\n",
       "| datefmt | str | %Y-%m-%d %H:%M:%S |  |\n",
       "| level | int | 20 |  |\n",
       "| force | bool | True |  |\n",
       "| **Returns** | **None** |  |  |"
      ]
     },
     "execution_count": null,
     "metadata": {},
     "output_type": "execute_result"
    }
   ],
   "source": [
    "show_doc(init_logging, title_level=3)"
   ]
  },
  {
   "cell_type": "markdown",
   "metadata": {},
   "source": [
    "## IO\n"
   ]
  },
  {
   "cell_type": "markdown",
   "metadata": {},
   "source": [
    "### Path\n"
   ]
  },
  {
   "cell_type": "code",
   "execution_count": null,
   "metadata": {},
   "outputs": [
    {
     "data": {
      "text/markdown": [
       "---\n",
       "\n",
       "[source](https://github.com/hkust-nlp/dart-math/blob/main/dart_math/utils.py#LNone){target=\"_blank\" style=\"float:right; font-size:smaller\"}\n",
       "\n",
       "#### get_pathname_from_name_or_path\n",
       "\n",
       ">      get_pathname_from_name_or_path (name_or_path:str)\n",
       "\n",
       "*Get the name suitable for file system from the HF-style `name_or_path`.*"
      ],
      "text/plain": [
       "---\n",
       "\n",
       "[source](https://github.com/hkust-nlp/dart-math/blob/main/dart_math/utils.py#LNone){target=\"_blank\" style=\"float:right; font-size:smaller\"}\n",
       "\n",
       "#### get_pathname_from_name_or_path\n",
       "\n",
       ">      get_pathname_from_name_or_path (name_or_path:str)\n",
       "\n",
       "*Get the name suitable for file system from the HF-style `name_or_path`.*"
      ]
     },
     "execution_count": null,
     "metadata": {},
     "output_type": "execute_result"
    }
   ],
   "source": [
    "show_doc(get_pathname_from_name_or_path, title_level=4)"
   ]
  },
  {
   "cell_type": "markdown",
   "metadata": {},
   "source": [
    "### JSON(L)\n",
    "\n",
    "> Based on `json` (more versatile) and `orjson` (more efficient).\n"
   ]
  },
  {
   "cell_type": "code",
   "execution_count": null,
   "metadata": {},
   "outputs": [
    {
     "data": {
      "text/markdown": [
       "---\n",
       "\n",
       "[source](https://github.com/hkust-nlp/dart-math/blob/main/dart_math/utils.py#LNone){target=\"_blank\" style=\"float:right; font-size:smaller\"}\n",
       "\n",
       "#### load_jsonl\n",
       "\n",
       ">      load_jsonl (fpath:str)\n",
       "\n",
       "*Load JSONL file.*"
      ],
      "text/plain": [
       "---\n",
       "\n",
       "[source](https://github.com/hkust-nlp/dart-math/blob/main/dart_math/utils.py#LNone){target=\"_blank\" style=\"float:right; font-size:smaller\"}\n",
       "\n",
       "#### load_jsonl\n",
       "\n",
       ">      load_jsonl (fpath:str)\n",
       "\n",
       "*Load JSONL file.*"
      ]
     },
     "execution_count": null,
     "metadata": {},
     "output_type": "execute_result"
    }
   ],
   "source": [
    "show_doc(load_jsonl, title_level=4)"
   ]
  },
  {
   "cell_type": "code",
   "execution_count": null,
   "metadata": {},
   "outputs": [
    {
     "data": {
      "text/markdown": [
       "---\n",
       "\n",
       "[source](https://github.com/hkust-nlp/dart-math/blob/main/dart_math/utils.py#LNone){target=\"_blank\" style=\"float:right; font-size:smaller\"}\n",
       "\n",
       "#### save_jsonl\n",
       "\n",
       ">      save_jsonl (data:list, fpath:str)\n",
       "\n",
       "*Save JSONL file.*"
      ],
      "text/plain": [
       "---\n",
       "\n",
       "[source](https://github.com/hkust-nlp/dart-math/blob/main/dart_math/utils.py#LNone){target=\"_blank\" style=\"float:right; font-size:smaller\"}\n",
       "\n",
       "#### save_jsonl\n",
       "\n",
       ">      save_jsonl (data:list, fpath:str)\n",
       "\n",
       "*Save JSONL file.*"
      ]
     },
     "execution_count": null,
     "metadata": {},
     "output_type": "execute_result"
    }
   ],
   "source": [
    "show_doc(save_jsonl, title_level=4)"
   ]
  },
  {
   "cell_type": "code",
   "execution_count": null,
   "metadata": {},
   "outputs": [
    {
     "data": {
      "text/markdown": [
       "---\n",
       "\n",
       "[source](https://github.com/hkust-nlp/dart-math/blob/main/dart_math/utils.py#LNone){target=\"_blank\" style=\"float:right; font-size:smaller\"}\n",
       "\n",
       "#### load_json\n",
       "\n",
       ">      load_json (fpath:str)\n",
       "\n",
       "*Load JSON file.*"
      ],
      "text/plain": [
       "---\n",
       "\n",
       "[source](https://github.com/hkust-nlp/dart-math/blob/main/dart_math/utils.py#LNone){target=\"_blank\" style=\"float:right; font-size:smaller\"}\n",
       "\n",
       "#### load_json\n",
       "\n",
       ">      load_json (fpath:str)\n",
       "\n",
       "*Load JSON file.*"
      ]
     },
     "execution_count": null,
     "metadata": {},
     "output_type": "execute_result"
    }
   ],
   "source": [
    "show_doc(load_json, title_level=4)"
   ]
  },
  {
   "cell_type": "code",
   "execution_count": null,
   "metadata": {},
   "outputs": [
    {
     "data": {
      "text/markdown": [
       "---\n",
       "\n",
       "[source](https://github.com/hkust-nlp/dart-math/blob/main/dart_math/utils.py#LNone){target=\"_blank\" style=\"float:right; font-size:smaller\"}\n",
       "\n",
       "#### save_json\n",
       "\n",
       ">      save_json (data:dict, fpath:str, indent:int=2)\n",
       "\n",
       "*Save JSON file.*"
      ],
      "text/plain": [
       "---\n",
       "\n",
       "[source](https://github.com/hkust-nlp/dart-math/blob/main/dart_math/utils.py#LNone){target=\"_blank\" style=\"float:right; font-size:smaller\"}\n",
       "\n",
       "#### save_json\n",
       "\n",
       ">      save_json (data:dict, fpath:str, indent:int=2)\n",
       "\n",
       "*Save JSON file.*"
      ]
     },
     "execution_count": null,
     "metadata": {},
     "output_type": "execute_result"
    }
   ],
   "source": [
    "show_doc(save_json, title_level=4)"
   ]
  }
 ],
 "metadata": {
  "kernelspec": {
   "display_name": "python3",
   "language": "python",
   "name": "python3"
  }
 },
 "nbformat": 4,
 "nbformat_minor": 4
}
