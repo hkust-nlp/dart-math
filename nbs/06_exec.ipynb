{
 "cells": [
  {
   "cell_type": "code",
   "execution_count": null,
   "metadata": {},
   "outputs": [],
   "source": [
    "%load_ext autoreload\n",
    "%autoreload 2"
   ]
  },
  {
   "cell_type": "markdown",
   "metadata": {},
   "source": [
    "# Code Execution\n",
    "\n",
    "> Execute code in text efficiently and safely.\n"
   ]
  },
  {
   "cell_type": "code",
   "execution_count": null,
   "metadata": {},
   "outputs": [],
   "source": [
    "# | hide\n",
    "from nbdev.showdoc import *\n",
    "from fastcore.test import *"
   ]
  },
  {
   "cell_type": "code",
   "execution_count": null,
   "metadata": {},
   "outputs": [],
   "source": [
    "from dart_math.exec import *"
   ]
  },
  {
   "cell_type": "markdown",
   "metadata": {},
   "source": [
    "## Execution Code Cells as in Notebooks\n"
   ]
  },
  {
   "cell_type": "code",
   "execution_count": null,
   "metadata": {},
   "outputs": [
    {
     "data": {
      "text/plain": [
       "('Take a sad song and make it better', '')"
      ]
     },
     "execution_count": null,
     "metadata": {},
     "output_type": "execute_result"
    }
   ],
   "source": [
    "from dart_math.exec import *\n",
    "\n",
    "exec_cells(\n",
    "    [\n",
    "        \"print('Hey, Jude')\",\n",
    "        \"print('Don\\\\'t make it bad')\",\n",
    "        \"print('Take a sad song and make it better')\",\n",
    "    ]\n",
    ")  # Only return the stdout and stderr of the last cell"
   ]
  },
  {
   "cell_type": "code",
   "execution_count": null,
   "metadata": {},
   "outputs": [
    {
     "data": {
      "text/markdown": [
       "---\n",
       "\n",
       "[source](https://github.com/hkust-nlp/dart-math/blob/main/dart_math/exec.py#LNone){target=\"_blank\" style=\"float:right; font-size:smaller\"}\n",
       "\n",
       "### exec_cells\n",
       "\n",
       ">      exec_cells (cells:list[str])"
      ],
      "text/plain": [
       "---\n",
       "\n",
       "[source](https://github.com/hkust-nlp/dart-math/blob/main/dart_math/exec.py#LNone){target=\"_blank\" style=\"float:right; font-size:smaller\"}\n",
       "\n",
       "### exec_cells\n",
       "\n",
       ">      exec_cells (cells:list[str])"
      ]
     },
     "execution_count": null,
     "metadata": {},
     "output_type": "execute_result"
    }
   ],
   "source": [
    "show_doc(exec_cells, title_level=3)"
   ]
  },
  {
   "cell_type": "markdown",
   "metadata": {},
   "source": [
    "## Unified Language & Code Context Configuration\n"
   ]
  },
  {
   "cell_type": "code",
   "execution_count": null,
   "metadata": {},
   "outputs": [
    {
     "data": {
      "text/plain": [
       "CodeExecCfg(\n",
       "    input_begin=```python, input_end=```, output_code_prefix=print(,output_begin=```output, output_end=```,\n",
       "    timeout=5, n_call_max=2,\n",
       "    trunc_len=(50, 50), elipsis=...\n",
       "    )"
      ]
     },
     "execution_count": null,
     "metadata": {},
     "output_type": "execute_result"
    }
   ],
   "source": [
    "code_exec_cfg = CodeExecCfg.load_from_id_or_path(\"python\")\n",
    "code_exec_cfg"
   ]
  },
  {
   "cell_type": "code",
   "execution_count": null,
   "metadata": {},
   "outputs": [
    {
     "data": {
      "text/plain": [
       "CodeExecCfg(\n",
       "    input_begin=```python, input_end=```, output_code_prefix=print(,output_begin=```output, output_end=```,\n",
       "    timeout=5, n_call_max=2,\n",
       "    trunc_len=(50, 50), elipsis=...\n",
       "    )"
      ]
     },
     "execution_count": null,
     "metadata": {},
     "output_type": "execute_result"
    }
   ],
   "source": [
    "code_exec_cfg"
   ]
  },
  {
   "cell_type": "code",
   "execution_count": null,
   "metadata": {},
   "outputs": [],
   "source": [
    "EG_LANG_CODE_CONTEXT = \"\"\"\n",
    "```python\n",
    "print('Hey, Jude')\n",
    "```\n",
    "\n",
    "```output\n",
    "Hey, Jude\n",
    "```\n",
    "\n",
    "Don't make it bad\n",
    "\n",
    "```python\n",
    "print('Take a sad song and make it better')\n",
    "```\n",
    "\n",
    "\"\"\""
   ]
  },
  {
   "cell_type": "code",
   "execution_count": null,
   "metadata": {},
   "outputs": [
    {
     "data": {
      "text/plain": [
       "False"
      ]
     },
     "execution_count": null,
     "metadata": {},
     "output_type": "execute_result"
    }
   ],
   "source": [
    "code_exec_cfg.no_cells_todo(EG_LANG_CODE_CONTEXT)"
   ]
  },
  {
   "cell_type": "code",
   "execution_count": null,
   "metadata": {},
   "outputs": [
    {
     "data": {
      "text/plain": [
       "True"
      ]
     },
     "execution_count": null,
     "metadata": {},
     "output_type": "execute_result"
    }
   ],
   "source": [
    "code_exec_cfg.no_cells_todo(\n",
    "    EG_LANG_CODE_CONTEXT + \"```output\\nTake a sad song and make it better```\"\n",
    ")"
   ]
  },
  {
   "cell_type": "code",
   "execution_count": null,
   "metadata": {},
   "outputs": [
    {
     "data": {
      "text/plain": [
       "[\"print('Hey, Jude')\", \"print('Take a sad song and make it better')\"]"
      ]
     },
     "execution_count": null,
     "metadata": {},
     "output_type": "execute_result"
    }
   ],
   "source": [
    "code_exec_cfg.extract_cells(EG_LANG_CODE_CONTEXT)"
   ]
  },
  {
   "cell_type": "code",
   "execution_count": null,
   "metadata": {},
   "outputs": [
    {
     "data": {
      "text/plain": [
       "'```output\\nTake a sad song and make it better\\n```output'"
      ]
     },
     "execution_count": null,
     "metadata": {},
     "output_type": "execute_result"
    }
   ],
   "source": [
    "code_exec_cfg.wrap_output(\"Take a sad song and make it better\")\n",
    "# Usually appended with some newlines"
   ]
  },
  {
   "cell_type": "code",
   "execution_count": null,
   "metadata": {},
   "outputs": [
    {
     "data": {
      "text/markdown": [
       "---\n",
       "\n",
       "[source](https://github.com/hkust-nlp/dart-math/blob/main/dart_math/exec.py#LNone){target=\"_blank\" style=\"float:right; font-size:smaller\"}\n",
       "\n",
       "### CodeExecCfg\n",
       "\n",
       ">      CodeExecCfg (input_begin:str='```python', input_end:str='```',\n",
       ">                   output_code_prefix:str='print(',\n",
       ">                   output_begin:str='```output', output_end:str='```',\n",
       ">                   timeout:int=5, n_call_max:int=2,\n",
       ">                   trunc_len:tuple[int,int]=(50, 50), elipsis:str='...')\n",
       "\n",
       "*Configuration for code execution.*\n",
       "\n",
       "|    | **Type** | **Default** | **Details** |\n",
       "| -- | -------- | ----------- | ----------- |\n",
       "| input_begin | str | ```python |  |\n",
       "| input_end | str | ``` |  |\n",
       "| output_code_prefix | str | print( | Prefix of code that will be executed to display the output. |\n",
       "| output_begin | str | ```output |  |\n",
       "| output_end | str | ``` |  |\n",
       "| timeout | int | 5 | Timeout in seconds for code execution. |\n",
       "| n_call_max | int | 2 | The maximum number of calls to the code execution function. |\n",
       "| trunc_len | tuple | (50, 50) | The maximum lengths to truncate the output into the beginning and end. |\n",
       "| elipsis | str | ... | The elipsis to use when truncating the output. |"
      ],
      "text/plain": [
       "---\n",
       "\n",
       "[source](https://github.com/hkust-nlp/dart-math/blob/main/dart_math/exec.py#LNone){target=\"_blank\" style=\"float:right; font-size:smaller\"}\n",
       "\n",
       "### CodeExecCfg\n",
       "\n",
       ">      CodeExecCfg (input_begin:str='```python', input_end:str='```',\n",
       ">                   output_code_prefix:str='print(',\n",
       ">                   output_begin:str='```output', output_end:str='```',\n",
       ">                   timeout:int=5, n_call_max:int=2,\n",
       ">                   trunc_len:tuple[int,int]=(50, 50), elipsis:str='...')\n",
       "\n",
       "*Configuration for code execution.*\n",
       "\n",
       "|    | **Type** | **Default** | **Details** |\n",
       "| -- | -------- | ----------- | ----------- |\n",
       "| input_begin | str | ```python |  |\n",
       "| input_end | str | ``` |  |\n",
       "| output_code_prefix | str | print( | Prefix of code that will be executed to display the output. |\n",
       "| output_begin | str | ```output |  |\n",
       "| output_end | str | ``` |  |\n",
       "| timeout | int | 5 | Timeout in seconds for code execution. |\n",
       "| n_call_max | int | 2 | The maximum number of calls to the code execution function. |\n",
       "| trunc_len | tuple | (50, 50) | The maximum lengths to truncate the output into the beginning and end. |\n",
       "| elipsis | str | ... | The elipsis to use when truncating the output. |"
      ]
     },
     "execution_count": null,
     "metadata": {},
     "output_type": "execute_result"
    }
   ],
   "source": [
    "show_doc(CodeExecCfg, title_level=3)"
   ]
  },
  {
   "cell_type": "code",
   "execution_count": null,
   "metadata": {},
   "outputs": [
    {
     "data": {
      "text/markdown": [
       "---\n",
       "\n",
       "[source](https://github.com/hkust-nlp/dart-math/blob/main/dart_math/exec.py#LNone){target=\"_blank\" style=\"float:right; font-size:smaller\"}\n",
       "\n",
       "#### CodeExecCfg.load_from_id_or_path\n",
       "\n",
       ">      CodeExecCfg.load_from_id_or_path (tool_config:str='python')\n",
       "\n",
       "*Load the configuration from the ID or path.*\n",
       "\n",
       "|    | **Type** | **Default** | **Details** |\n",
       "| -- | -------- | ----------- | ----------- |\n",
       "| tool_config | str | python | ID / Path to file of the code executeion configuration. |\n",
       "| **Returns** | **CodeExecCfg** |  | **The code execution configuration object.** |"
      ],
      "text/plain": [
       "---\n",
       "\n",
       "[source](https://github.com/hkust-nlp/dart-math/blob/main/dart_math/exec.py#LNone){target=\"_blank\" style=\"float:right; font-size:smaller\"}\n",
       "\n",
       "#### CodeExecCfg.load_from_id_or_path\n",
       "\n",
       ">      CodeExecCfg.load_from_id_or_path (tool_config:str='python')\n",
       "\n",
       "*Load the configuration from the ID or path.*\n",
       "\n",
       "|    | **Type** | **Default** | **Details** |\n",
       "| -- | -------- | ----------- | ----------- |\n",
       "| tool_config | str | python | ID / Path to file of the code executeion configuration. |\n",
       "| **Returns** | **CodeExecCfg** |  | **The code execution configuration object.** |"
      ]
     },
     "execution_count": null,
     "metadata": {},
     "output_type": "execute_result"
    }
   ],
   "source": [
    "show_doc(CodeExecCfg.load_from_id_or_path, title_level=4)"
   ]
  },
  {
   "cell_type": "code",
   "execution_count": null,
   "metadata": {},
   "outputs": [
    {
     "data": {
      "text/markdown": [
       "---\n",
       "\n",
       "[source](https://github.com/hkust-nlp/dart-math/blob/main/dart_math/exec.py#LNone){target=\"_blank\" style=\"float:right; font-size:smaller\"}\n",
       "\n",
       "#### CodeExecCfg.no_cells_todo\n",
       "\n",
       ">      CodeExecCfg.no_cells_todo (text:str)\n",
       "\n",
       "*Judge if there are no code cells to execute.*"
      ],
      "text/plain": [
       "---\n",
       "\n",
       "[source](https://github.com/hkust-nlp/dart-math/blob/main/dart_math/exec.py#LNone){target=\"_blank\" style=\"float:right; font-size:smaller\"}\n",
       "\n",
       "#### CodeExecCfg.no_cells_todo\n",
       "\n",
       ">      CodeExecCfg.no_cells_todo (text:str)\n",
       "\n",
       "*Judge if there are no code cells to execute.*"
      ]
     },
     "execution_count": null,
     "metadata": {},
     "output_type": "execute_result"
    }
   ],
   "source": [
    "show_doc(CodeExecCfg.no_cells_todo, title_level=4)"
   ]
  },
  {
   "cell_type": "code",
   "execution_count": null,
   "metadata": {},
   "outputs": [],
   "source": [
    "test_eq(\n",
    "    code_exec_cfg.no_cells_todo(EG_LANG_CODE_CONTEXT), False\n",
    ")  # 2 code cells but only 1 executed to output\n",
    "\n",
    "test_eq(\n",
    "    code_exec_cfg.no_cells_todo(\n",
    "        EG_LANG_CODE_CONTEXT + \"```output\\nTake a sad song and make it better```\"\n",
    "    ),\n",
    "    True,\n",
    ")  # All the code cells have been executed"
   ]
  },
  {
   "cell_type": "code",
   "execution_count": null,
   "metadata": {},
   "outputs": [
    {
     "data": {
      "text/markdown": [
       "---\n",
       "\n",
       "[source](https://github.com/hkust-nlp/dart-math/blob/main/dart_math/exec.py#LNone){target=\"_blank\" style=\"float:right; font-size:smaller\"}\n",
       "\n",
       "#### CodeExecCfg.extract_cells\n",
       "\n",
       ">      CodeExecCfg.extract_cells (text:str)\n",
       "\n",
       "*Extract code cells from the text.*\n",
       "\n",
       "|    | **Type** | **Details** |\n",
       "| -- | -------- | ----------- |\n",
       "| text | str | The text to extract code cells from. |\n",
       "| **Returns** | **list** | **The extracted code cells.** |"
      ],
      "text/plain": [
       "---\n",
       "\n",
       "[source](https://github.com/hkust-nlp/dart-math/blob/main/dart_math/exec.py#LNone){target=\"_blank\" style=\"float:right; font-size:smaller\"}\n",
       "\n",
       "#### CodeExecCfg.extract_cells\n",
       "\n",
       ">      CodeExecCfg.extract_cells (text:str)\n",
       "\n",
       "*Extract code cells from the text.*\n",
       "\n",
       "|    | **Type** | **Details** |\n",
       "| -- | -------- | ----------- |\n",
       "| text | str | The text to extract code cells from. |\n",
       "| **Returns** | **list** | **The extracted code cells.** |"
      ]
     },
     "execution_count": null,
     "metadata": {},
     "output_type": "execute_result"
    }
   ],
   "source": [
    "show_doc(CodeExecCfg.extract_cells, title_level=4)"
   ]
  },
  {
   "cell_type": "code",
   "execution_count": null,
   "metadata": {},
   "outputs": [],
   "source": [
    "test_eq(\n",
    "    code_exec_cfg.extract_cells(EG_LANG_CODE_CONTEXT),\n",
    "    [\n",
    "        \"print('Hey, Jude')\",\n",
    "        # \"print('Don\\\\'t make it bad')\",\n",
    "        \"print('Take a sad song and make it better')\",\n",
    "    ],\n",
    ")"
   ]
  },
  {
   "cell_type": "code",
   "execution_count": null,
   "metadata": {},
   "outputs": [
    {
     "data": {
      "text/markdown": [
       "---\n",
       "\n",
       "[source](https://github.com/hkust-nlp/dart-math/blob/main/dart_math/exec.py#LNone){target=\"_blank\" style=\"float:right; font-size:smaller\"}\n",
       "\n",
       "#### CodeExecCfg.wrap_output\n",
       "\n",
       ">      CodeExecCfg.wrap_output (output:str)\n",
       "\n",
       "*Return `f\"{self.output_begin}\\n{output}\\n{self.output_begin}\"`*"
      ],
      "text/plain": [
       "---\n",
       "\n",
       "[source](https://github.com/hkust-nlp/dart-math/blob/main/dart_math/exec.py#LNone){target=\"_blank\" style=\"float:right; font-size:smaller\"}\n",
       "\n",
       "#### CodeExecCfg.wrap_output\n",
       "\n",
       ">      CodeExecCfg.wrap_output (output:str)\n",
       "\n",
       "*Return `f\"{self.output_begin}\\n{output}\\n{self.output_begin}\"`*"
      ]
     },
     "execution_count": null,
     "metadata": {},
     "output_type": "execute_result"
    }
   ],
   "source": [
    "show_doc(CodeExecCfg.wrap_output, title_level=4)"
   ]
  },
  {
   "cell_type": "code",
   "execution_count": null,
   "metadata": {},
   "outputs": [],
   "source": [
    "test_eq(\n",
    "    code_exec_cfg.wrap_output(\"Take a sad song and make it better\"),\n",
    "    \"```output\\nTake a sad song and make it better\\n```output\",\n",
    ")"
   ]
  }
 ],
 "metadata": {
  "kernelspec": {
   "display_name": "python3",
   "language": "python",
   "name": "python3"
  }
 },
 "nbformat": 4,
 "nbformat_minor": 2
}
