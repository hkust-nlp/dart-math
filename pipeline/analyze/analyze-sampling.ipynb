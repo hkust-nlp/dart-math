{
 "cells": [
  {
   "cell_type": "code",
   "execution_count": null,
   "metadata": {
    "tags": [
     "dev"
    ]
   },
   "outputs": [],
   "source": [
    "%load_ext autoreload\n",
    "%autoreload 2"
   ]
  },
  {
   "cell_type": "markdown",
   "metadata": {},
   "source": [
    "# Analyze sampling"
   ]
  },
  {
   "cell_type": "code",
   "execution_count": null,
   "metadata": {},
   "outputs": [],
   "source": [
    "import pandas as pd\n",
    "from datasets import load_dataset, Dataset\n",
    "from pathlib import Path\n",
    "from collections import defaultdict\n",
    "from tqdm.notebook import tqdm"
   ]
  },
  {
   "cell_type": "code",
   "execution_count": null,
   "metadata": {},
   "outputs": [],
   "source": [
    "from dart_math.utils import load_jsonl, PROJ_HOME"
   ]
  },
  {
   "cell_type": "code",
   "execution_count": null,
   "metadata": {},
   "outputs": [],
   "source": [
    "OAI_OUTPUT_HOME: Path = Path(PROJ_HOME, \"data/oai-outputs\")"
   ]
  },
  {
   "cell_type": "code",
   "execution_count": null,
   "metadata": {},
   "outputs": [
    {
     "name": "stdout",
     "output_type": "stream",
     "text": [
      "len(MATH_QUERY2LVL)=7500\n"
     ]
    }
   ],
   "source": [
    "MATH_DSET: Dataset = load_dataset(\"hendrycks/competition_math\", split=\"train\")\n",
    "MATH_QUERY2LVL: dict[str, int] = {}\n",
    "for row in MATH_DSET:\n",
    "    query: str = row[\"problem\"].strip()\n",
    "    level: int\n",
    "    if (\n",
    "        query\n",
    "        == r\"We have a triangle $\\triangle ABC$ and a point $K$ on $BC$ such that $AK$ is an altitude of $\\triangle ABC$. If $AC = 10,$ $BK = 7$, and $BC = 13,$ then what is the area of $\\triangle ABC$?\"\n",
    "    ):\n",
    "        level = 2  # MATH/train/geometry/377.json\n",
    "    elif (\n",
    "        query\n",
    "        == r\"One leg of a right triangle is 12 inches, and the measure of the angle opposite that leg is $30^\\circ$. What is the number of inches in the hypotenuse of the triangle?\"\n",
    "    ):\n",
    "        level = 1  # MATH/train/geometry/471.json\n",
    "    else:\n",
    "        level = int(row[\"level\"][-1])\n",
    "    MATH_QUERY2LVL[query] = level\n",
    "print(f\"{len(MATH_QUERY2LVL)=}\")"
   ]
  },
  {
   "cell_type": "code",
   "execution_count": null,
   "metadata": {},
   "outputs": [
    {
     "name": "stdout",
     "output_type": "stream",
     "text": [
      "len(GSM8K_QUERY2N_STEP)=7473\n"
     ]
    }
   ],
   "source": [
    "GSM8K_DSET: Dataset = load_dataset(\"hkust-nlp/gsm8k-fix\", split=\"train\")\n",
    "GSM8K_QUERY2N_STEP: dict[str, int] = {}\n",
    "for row in GSM8K_DSET:\n",
    "    query: str = row[\"query\"].strip()\n",
    "    n_step = row[\"query_metadata\"][\"n_step\"]\n",
    "    GSM8K_QUERY2N_STEP[query] = n_step\n",
    "print(f\"{len(GSM8K_QUERY2N_STEP)=}\")"
   ]
  },
  {
   "cell_type": "code",
   "execution_count": null,
   "metadata": {},
   "outputs": [],
   "source": [
    "def assign_sample_lvl(sample):\n",
    "    sample[\"query\"] = sample[\"query\"].strip()\n",
    "    sample[\"level\"] = MATH_QUERY2LVL.get(sample[\"query\"], 0)\n",
    "    return sample\n",
    "\n",
    "\n",
    "def assign_lvl(samples: list[dict[str, str]]) -> None:\n",
    "    for sample in samples:\n",
    "        assign_sample_lvl(sample)\n",
    "\n",
    "\n",
    "def calc_coverage(\n",
    "    df: pd.DataFrame, queries: list[str], column_name: str = \"query\"\n",
    ") -> float:\n",
    "    \"\"\"Return coverage rate in [0,1].\"\"\"\n",
    "    df_values = set(df[column_name])\n",
    "\n",
    "    covered: set = df_values.intersection(queries)\n",
    "    coverage: float = len(covered) / len(queries)\n",
    "\n",
    "    return coverage"
   ]
  },
  {
   "cell_type": "code",
   "execution_count": null,
   "metadata": {},
   "outputs": [],
   "source": [
    "sampling2lvl_cnts: dict[str, dict[int, int]] = {}\n",
    "QUERY_CNTS: dict[int, int] = {0: 7473, 1: 565, 2: 1349, 3: 1592, 4: 1690, 5: 2304}"
   ]
  },
  {
   "cell_type": "code",
   "execution_count": null,
   "metadata": {},
   "outputs": [],
   "source": [
    "def calc_lvl_avg_cnt(df: pd.DataFrame) -> dict[int, int]:\n",
    "    return dict(\n",
    "        sorted(\n",
    "            [\n",
    "                (lvl, cnt / QUERY_CNTS[lvl])\n",
    "                for lvl, cnt in df[\"level\"].value_counts().items()\n",
    "            ],\n",
    "            key=lambda x: x[0],\n",
    "        )\n",
    "    )"
   ]
  },
  {
   "cell_type": "markdown",
   "metadata": {},
   "source": [
    "## ToRA"
   ]
  },
  {
   "cell_type": "code",
   "execution_count": null,
   "metadata": {},
   "outputs": [
    {
     "name": "stdout",
     "output_type": "stream",
     "text": [
      "len(tora_df)=12782\n"
     ]
    }
   ],
   "source": [
    "tora_gpt_greedy_correct_samples: list[dict[str, str]] = [\n",
    "    sample\n",
    "    for sample in load_jsonl(OAI_OUTPUT_HOME / \"output_t0.0_n1.jsonl\")\n",
    "    if sample[\"correct\"]\n",
    "]\n",
    "\n",
    "assign_lvl(tora_gpt_greedy_correct_samples)\n",
    "tora_df: pd.DataFrame = pd.DataFrame(tora_gpt_greedy_correct_samples)\n",
    "print(f\"{len(tora_df)=}\")"
   ]
  },
  {
   "cell_type": "code",
   "execution_count": null,
   "metadata": {
    "tags": [
     "dev"
    ]
   },
   "outputs": [
    {
     "data": {
      "text/html": [
       "<div>\n",
       "<style scoped>\n",
       "    .dataframe tbody tr th:only-of-type {\n",
       "        vertical-align: middle;\n",
       "    }\n",
       "\n",
       "    .dataframe tbody tr th {\n",
       "        vertical-align: top;\n",
       "    }\n",
       "\n",
       "    .dataframe thead th {\n",
       "        text-align: right;\n",
       "    }\n",
       "</style>\n",
       "<table border=\"1\" class=\"dataframe\">\n",
       "  <thead>\n",
       "    <tr style=\"text-align: right;\">\n",
       "      <th></th>\n",
       "      <th>dataset</th>\n",
       "      <th>ref_ans</th>\n",
       "      <th>ans</th>\n",
       "      <th>correct</th>\n",
       "      <th>agent</th>\n",
       "      <th>prompt_template</th>\n",
       "      <th>query</th>\n",
       "      <th>resp</th>\n",
       "      <th>level</th>\n",
       "    </tr>\n",
       "  </thead>\n",
       "  <tbody>\n",
       "    <tr>\n",
       "      <th>0</th>\n",
       "      <td>hendrycks/competition_math/train</td>\n",
       "      <td>\\frac{3}{10}</td>\n",
       "      <td>\\frac{3}{10}</td>\n",
       "      <td>True</td>\n",
       "      <td>gpt-4o-mini-2024-07-18</td>\n",
       "      <td>You are a helpful assistant. Solve the problem...</td>\n",
       "      <td>A bowl contains 10 jellybeans (four red, one b...</td>\n",
       "      <td>To find the probability of picking exactly two...</td>\n",
       "      <td>5</td>\n",
       "    </tr>\n",
       "    <tr>\n",
       "      <th>1</th>\n",
       "      <td>hendrycks/competition_math/train</td>\n",
       "      <td>\\frac{27}{64}</td>\n",
       "      <td>\\frac{27}{64}</td>\n",
       "      <td>True</td>\n",
       "      <td>gpt-4o-mini-2024-07-18</td>\n",
       "      <td>You are a helpful assistant. Solve the problem...</td>\n",
       "      <td>The Boston weatherman says there is a 75 perce...</td>\n",
       "      <td>To solve the problem, we need to determine the...</td>\n",
       "      <td>4</td>\n",
       "    </tr>\n",
       "    <tr>\n",
       "      <th>2</th>\n",
       "      <td>hendrycks/competition_math/train</td>\n",
       "      <td>\\frac{34}{455}</td>\n",
       "      <td>\\frac{34}{455}</td>\n",
       "      <td>True</td>\n",
       "      <td>gpt-4o-mini-2024-07-18</td>\n",
       "      <td>You are a helpful assistant. Solve the problem...</td>\n",
       "      <td>A bag has 4 red marbles, 5 white marbles, and ...</td>\n",
       "      <td>To find the probability that all three marbles...</td>\n",
       "      <td>4</td>\n",
       "    </tr>\n",
       "    <tr>\n",
       "      <th>3</th>\n",
       "      <td>hendrycks/competition_math/train</td>\n",
       "      <td>300</td>\n",
       "      <td>300</td>\n",
       "      <td>True</td>\n",
       "      <td>gpt-4o-mini-2024-07-18</td>\n",
       "      <td>You are a helpful assistant. Solve the problem...</td>\n",
       "      <td>Compute $\\dbinom{25}{2}$.</td>\n",
       "      <td>To compute \\(\\dbinom{25}{2}\\), we use the form...</td>\n",
       "      <td>1</td>\n",
       "    </tr>\n",
       "    <tr>\n",
       "      <th>4</th>\n",
       "      <td>hendrycks/competition_math/train</td>\n",
       "      <td>452</td>\n",
       "      <td>452</td>\n",
       "      <td>True</td>\n",
       "      <td>gpt-4o-mini-2024-07-18</td>\n",
       "      <td>You are a helpful assistant. Solve the problem...</td>\n",
       "      <td>How many three-digit whole numbers have at lea...</td>\n",
       "      <td>To find how many three-digit whole numbers hav...</td>\n",
       "      <td>3</td>\n",
       "    </tr>\n",
       "    <tr>\n",
       "      <th>...</th>\n",
       "      <td>...</td>\n",
       "      <td>...</td>\n",
       "      <td>...</td>\n",
       "      <td>...</td>\n",
       "      <td>...</td>\n",
       "      <td>...</td>\n",
       "      <td>...</td>\n",
       "      <td>...</td>\n",
       "      <td>...</td>\n",
       "    </tr>\n",
       "    <tr>\n",
       "      <th>12777</th>\n",
       "      <td>hendrycks/competition_math/train</td>\n",
       "      <td>\\frac{1}{4}</td>\n",
       "      <td>\\frac{1}{4}</td>\n",
       "      <td>True</td>\n",
       "      <td>gpt-4o-mini-2024-07-18</td>\n",
       "      <td>You are a helpful assistant. Solve the problem...</td>\n",
       "      <td>A circular garden is enlarged so that the new ...</td>\n",
       "      <td>Let the original diameter of the circular gard...</td>\n",
       "      <td>4</td>\n",
       "    </tr>\n",
       "    <tr>\n",
       "      <th>12778</th>\n",
       "      <td>hendrycks/competition_math/train</td>\n",
       "      <td>6</td>\n",
       "      <td>6</td>\n",
       "      <td>True</td>\n",
       "      <td>gpt-4o-mini-2024-07-18</td>\n",
       "      <td>You are a helpful assistant. Solve the problem...</td>\n",
       "      <td>A $4$-foot by $8$-foot rectangular piece of pl...</td>\n",
       "      <td>To solve the problem, we start with a rectangu...</td>\n",
       "      <td>5</td>\n",
       "    </tr>\n",
       "    <tr>\n",
       "      <th>12779</th>\n",
       "      <td>hendrycks/competition_math/train</td>\n",
       "      <td>25</td>\n",
       "      <td>25</td>\n",
       "      <td>True</td>\n",
       "      <td>gpt-4o-mini-2024-07-18</td>\n",
       "      <td>You are a helpful assistant. Solve the problem...</td>\n",
       "      <td>Ten students are taking both algebra and draft...</td>\n",
       "      <td>To solve the problem, we need to determine how...</td>\n",
       "      <td>3</td>\n",
       "    </tr>\n",
       "    <tr>\n",
       "      <th>12780</th>\n",
       "      <td>hendrycks/competition_math/train</td>\n",
       "      <td>\\frac{1}{2}</td>\n",
       "      <td>\\frac{1}{2}</td>\n",
       "      <td>True</td>\n",
       "      <td>gpt-4o-mini-2024-07-18</td>\n",
       "      <td>You are a helpful assistant. Solve the problem...</td>\n",
       "      <td>The expression $\\frac{4k+8}{4}$ simplifies to ...</td>\n",
       "      <td>To simplify the expression \\(\\frac{4k+8}{4}\\),...</td>\n",
       "      <td>3</td>\n",
       "    </tr>\n",
       "    <tr>\n",
       "      <th>12781</th>\n",
       "      <td>hendrycks/competition_math/train</td>\n",
       "      <td>50</td>\n",
       "      <td>50</td>\n",
       "      <td>True</td>\n",
       "      <td>gpt-4o-mini-2024-07-18</td>\n",
       "      <td>You are a helpful assistant. Solve the problem...</td>\n",
       "      <td>If $x - 2x + 3x = 100$, what is the value of $x$?</td>\n",
       "      <td>To solve the equation \\( x - 2x + 3x = 100 \\),...</td>\n",
       "      <td>2</td>\n",
       "    </tr>\n",
       "  </tbody>\n",
       "</table>\n",
       "<p>12782 rows × 9 columns</p>\n",
       "</div>"
      ],
      "text/plain": [
       "                                dataset         ref_ans             ans  \\\n",
       "0      hendrycks/competition_math/train    \\frac{3}{10}    \\frac{3}{10}   \n",
       "1      hendrycks/competition_math/train   \\frac{27}{64}   \\frac{27}{64}   \n",
       "2      hendrycks/competition_math/train  \\frac{34}{455}  \\frac{34}{455}   \n",
       "3      hendrycks/competition_math/train             300             300   \n",
       "4      hendrycks/competition_math/train             452             452   \n",
       "...                                 ...             ...             ...   \n",
       "12777  hendrycks/competition_math/train     \\frac{1}{4}     \\frac{1}{4}   \n",
       "12778  hendrycks/competition_math/train               6               6   \n",
       "12779  hendrycks/competition_math/train              25              25   \n",
       "12780  hendrycks/competition_math/train     \\frac{1}{2}     \\frac{1}{2}   \n",
       "12781  hendrycks/competition_math/train              50              50   \n",
       "\n",
       "       correct                   agent  \\\n",
       "0         True  gpt-4o-mini-2024-07-18   \n",
       "1         True  gpt-4o-mini-2024-07-18   \n",
       "2         True  gpt-4o-mini-2024-07-18   \n",
       "3         True  gpt-4o-mini-2024-07-18   \n",
       "4         True  gpt-4o-mini-2024-07-18   \n",
       "...        ...                     ...   \n",
       "12777     True  gpt-4o-mini-2024-07-18   \n",
       "12778     True  gpt-4o-mini-2024-07-18   \n",
       "12779     True  gpt-4o-mini-2024-07-18   \n",
       "12780     True  gpt-4o-mini-2024-07-18   \n",
       "12781     True  gpt-4o-mini-2024-07-18   \n",
       "\n",
       "                                         prompt_template  \\\n",
       "0      You are a helpful assistant. Solve the problem...   \n",
       "1      You are a helpful assistant. Solve the problem...   \n",
       "2      You are a helpful assistant. Solve the problem...   \n",
       "3      You are a helpful assistant. Solve the problem...   \n",
       "4      You are a helpful assistant. Solve the problem...   \n",
       "...                                                  ...   \n",
       "12777  You are a helpful assistant. Solve the problem...   \n",
       "12778  You are a helpful assistant. Solve the problem...   \n",
       "12779  You are a helpful assistant. Solve the problem...   \n",
       "12780  You are a helpful assistant. Solve the problem...   \n",
       "12781  You are a helpful assistant. Solve the problem...   \n",
       "\n",
       "                                                   query  \\\n",
       "0      A bowl contains 10 jellybeans (four red, one b...   \n",
       "1      The Boston weatherman says there is a 75 perce...   \n",
       "2      A bag has 4 red marbles, 5 white marbles, and ...   \n",
       "3                              Compute $\\dbinom{25}{2}$.   \n",
       "4      How many three-digit whole numbers have at lea...   \n",
       "...                                                  ...   \n",
       "12777  A circular garden is enlarged so that the new ...   \n",
       "12778  A $4$-foot by $8$-foot rectangular piece of pl...   \n",
       "12779  Ten students are taking both algebra and draft...   \n",
       "12780  The expression $\\frac{4k+8}{4}$ simplifies to ...   \n",
       "12781  If $x - 2x + 3x = 100$, what is the value of $x$?   \n",
       "\n",
       "                                                    resp  level  \n",
       "0      To find the probability of picking exactly two...      5  \n",
       "1      To solve the problem, we need to determine the...      4  \n",
       "2      To find the probability that all three marbles...      4  \n",
       "3      To compute \\(\\dbinom{25}{2}\\), we use the form...      1  \n",
       "4      To find how many three-digit whole numbers hav...      3  \n",
       "...                                                  ...    ...  \n",
       "12777  Let the original diameter of the circular gard...      4  \n",
       "12778  To solve the problem, we start with a rectangu...      5  \n",
       "12779  To solve the problem, we need to determine how...      3  \n",
       "12780  To simplify the expression \\(\\frac{4k+8}{4}\\),...      3  \n",
       "12781  To solve the equation \\( x - 2x + 3x = 100 \\),...      2  \n",
       "\n",
       "[12782 rows x 9 columns]"
      ]
     },
     "execution_count": null,
     "metadata": {},
     "output_type": "execute_result"
    }
   ],
   "source": [
    "tora_df"
   ]
  },
  {
   "cell_type": "code",
   "execution_count": null,
   "metadata": {},
   "outputs": [
    {
     "name": "stdout",
     "output_type": "stream",
     "text": [
      "sampling2lvl_cnts['tora-gpt-greedy']={0: 0.9304161648601632, 1: 0.9805309734513274, 2: 0.9481097108969607, 3: 0.8812814070351759, 4: 0.8041420118343195, 5: 0.5355902777777778}\n"
     ]
    }
   ],
   "source": [
    "sampling2lvl_cnts[\"tora-gpt-greedy\"]: dict[int, int] = calc_lvl_avg_cnt(tora_df)\n",
    "print(f\"{sampling2lvl_cnts['tora-gpt-greedy']=}\")"
   ]
  },
  {
   "cell_type": "code",
   "execution_count": null,
   "metadata": {},
   "outputs": [
    {
     "name": "stdout",
     "output_type": "stream",
     "text": [
      "len(tora_gpt_sample_raw_samples)=21910\n",
      "len(tora_gpt_sample_samples)=4510\n"
     ]
    }
   ],
   "source": [
    "tora_gpt_sample_raw_samples: list[dict[str, str]] = load_jsonl(\n",
    "    OAI_OUTPUT_HOME / \"output_t0.6_n10.jsonl\"\n",
    ")\n",
    "print(f\"{len(tora_gpt_sample_raw_samples)=}\")\n",
    "tora_gpt_sample_samples: list[dict[str, str]] = [\n",
    "    sample for sample in tora_gpt_sample_raw_samples if sample[\"correct\"]\n",
    "]\n",
    "print(f\"{len(tora_gpt_sample_samples)=}\")\n",
    "assign_lvl(tora_gpt_sample_samples)"
   ]
  },
  {
   "cell_type": "code",
   "execution_count": null,
   "metadata": {},
   "outputs": [
    {
     "name": "stdout",
     "output_type": "stream",
     "text": [
      "len(tora_df)=15998\n",
      "sampling2lvl_cnts['tora-gpt-sample']={0: 1.04656764351666, 1: 1.0123893805309734, 2: 1.0467012601927355, 3: 1.1080402010050252, 4: 1.1431952662721894, 5: 1.0837673611111112}\n"
     ]
    }
   ],
   "source": [
    "tora_df = pd.concat([tora_df, pd.DataFrame(tora_gpt_sample_samples)])\n",
    "tora_df = tora_df.groupby(\"query\").head(4)\n",
    "print(f\"{len(tora_df)=}\")\n",
    "sampling2lvl_cnts[\"tora-gpt-sample\"]: dict[int, int] = calc_lvl_avg_cnt(tora_df)\n",
    "print(f\"{sampling2lvl_cnts['tora-gpt-sample']=}\")"
   ]
  },
  {
   "cell_type": "code",
   "execution_count": null,
   "metadata": {},
   "outputs": [
    {
     "data": {
      "application/vnd.jupyter.widget-view+json": {
       "model_id": "075de2197bb74e368dd49d1b4b53bb39",
       "version_major": 2,
       "version_minor": 0
      },
      "text/plain": [
       "synth-vrt-455183:   0%|          | 0/64 [00:00<?, ?it/s]"
      ]
     },
     "metadata": {},
     "output_type": "display_data"
    },
    {
     "data": {
      "application/vnd.jupyter.widget-view+json": {
       "model_id": "c5744b125d7a4ce08c377c16f207633b",
       "version_major": 2,
       "version_minor": 0
      },
      "text/plain": [
       "synth-vrt-455448:   0%|          | 0/64 [00:00<?, ?it/s]"
      ]
     },
     "metadata": {},
     "output_type": "display_data"
    },
    {
     "data": {
      "application/vnd.jupyter.widget-view+json": {
       "model_id": "43f7f48a43e64ecf93ef0d361000c416",
       "version_major": 2,
       "version_minor": 0
      },
      "text/plain": [
       "synth-vrt:   0%|          | 0/64 [00:00<?, ?it/s]"
      ]
     },
     "metadata": {},
     "output_type": "display_data"
    }
   ],
   "source": [
    "all_dsmath_samples: list[dict] = []\n",
    "DSMATH_OUTPUT_HOME: Path = Path(PROJ_HOME, \"data/res\")\n",
    "for synth_dpath in DSMATH_OUTPUT_HOME.glob(\"synth-vrt*\"):\n",
    "    for synth_fpath in tqdm(\n",
    "        list(synth_dpath.glob(\"synth-vrt-*.jsonl\")), desc=synth_dpath.name\n",
    "    ):\n",
    "        all_dsmath_samples.extend(load_jsonl(synth_fpath))"
   ]
  },
  {
   "cell_type": "code",
   "execution_count": null,
   "metadata": {},
   "outputs": [
    {
     "data": {
      "text/plain": [
       "level\n",
       "0.0    956544\n",
       "5.0    294912\n",
       "4.0    216320\n",
       "3.0    203776\n",
       "2.0    172672\n",
       "1.0     72320\n",
       "Name: count, dtype: int64"
      ]
     },
     "execution_count": null,
     "metadata": {},
     "output_type": "execute_result"
    }
   ],
   "source": [
    "all_dsmath_df: pd.DataFrame = pd.DataFrame(all_dsmath_samples)\n",
    "all_dsmath_df[\"level\"] = all_dsmath_df[\"level\"].fillna(0)\n",
    "all_dsmath_df[\"level\"].value_counts()"
   ]
  },
  {
   "cell_type": "code",
   "execution_count": null,
   "metadata": {},
   "outputs": [
    {
     "name": "stdout",
     "output_type": "stream",
     "text": [
      "len(tora_dsmath_sample_df)=958272\n",
      "len(tora_dsmath_sample_df[tora_dsmath_sample_df['correct']])=733114\n"
     ]
    }
   ],
   "source": [
    "tora_dsmath_sample_df: pd.DataFrame = all_dsmath_df.groupby(\"query\").head(64)\n",
    "tora_dsmath_sample_df[\"level\"].value_counts()\n",
    "print(f\"{len(tora_dsmath_sample_df)=}\")\n",
    "print(f\"{len(tora_dsmath_sample_df[tora_dsmath_sample_df['correct']])=}\")"
   ]
  },
  {
   "cell_type": "code",
   "execution_count": null,
   "metadata": {},
   "outputs": [
    {
     "data": {
      "text/plain": [
       "level\n",
       "0.0    478272\n",
       "5.0    147456\n",
       "4.0    108160\n",
       "3.0    101888\n",
       "2.0     86336\n",
       "1.0     36160\n",
       "Name: count, dtype: int64"
      ]
     },
     "execution_count": null,
     "metadata": {},
     "output_type": "execute_result"
    }
   ],
   "source": [
    "tora_dsmath_sample_left_df: pd.DataFrame = all_dsmath_df[\n",
    "    ~all_dsmath_df.index.isin(tora_dsmath_sample_df.index)\n",
    "]\n",
    "tora_dsmath_sample_left_df[\"level\"].value_counts()"
   ]
  },
  {
   "cell_type": "code",
   "execution_count": null,
   "metadata": {},
   "outputs": [],
   "source": [
    "query2fail_cnt = (\n",
    "    tora_dsmath_sample_df[~tora_dsmath_sample_df[\"correct\"]].groupby(\"query\").size()\n",
    ")"
   ]
  },
  {
   "cell_type": "code",
   "execution_count": null,
   "metadata": {},
   "outputs": [
    {
     "name": "stdout",
     "output_type": "stream",
     "text": [
      "len(tora_dsmath_retry_df)=225158\n"
     ]
    }
   ],
   "source": [
    "# tora_dsmath_retry_df_list: list[pd.DataFrame] = []\n",
    "# for query, fail_cnt in tqdm(list(query2fail_cnt.items()), desc=\"Retry\"):\n",
    "#     if fail_cnt > 0:\n",
    "#         tora_dsmath_retry_df_list.append(\n",
    "#             tora_dsmath_sample_left_df[\n",
    "#                 tora_dsmath_sample_left_df[\"query\"] == query\n",
    "#             ].head(fail_cnt)\n",
    "#         )\n",
    "# tora_dsmath_retry_df: pd.DataFrame = pd.concat(tora_dsmath_retry_df_list)\n",
    "\n",
    "# Convert query2fail_cnt to a Series for vectorized operations\n",
    "fail_cnt_series = pd.Series(query2fail_cnt)\n",
    "\n",
    "# Filter the DataFrame based on queries with fail_cnt > 0\n",
    "mask = tora_dsmath_sample_left_df[\"query\"].isin(\n",
    "    fail_cnt_series[fail_cnt_series > 0].index\n",
    ")\n",
    "filtered_df = tora_dsmath_sample_left_df[mask]\n",
    "\n",
    "# Create a Series of cumulative counts for each query\n",
    "cumulative_counts = filtered_df.groupby(\"query\").cumcount() + 1\n",
    "\n",
    "# Create a boolean mask for rows to keep\n",
    "rows_to_keep = cumulative_counts <= filtered_df[\"query\"].map(fail_cnt_series)\n",
    "\n",
    "# Apply the mask to get the final DataFrame\n",
    "tora_dsmath_retry_df: pd.DataFrame = filtered_df[rows_to_keep].reset_index(drop=True)\n",
    "tora_dsmath_retry_df[\"level\"].value_counts()\n",
    "print(f\"{len(tora_dsmath_retry_df)=}\")"
   ]
  },
  {
   "cell_type": "code",
   "execution_count": null,
   "metadata": {},
   "outputs": [],
   "source": [
    "tora_dsmath_final_df: pd.DataFrame\n",
    "tora_dsmath_final_df = pd.concat([tora_dsmath_sample_df, tora_dsmath_retry_df])\n",
    "tora_dsmath_final_df = (\n",
    "    tora_dsmath_final_df[tora_dsmath_final_df[\"correct\"]].groupby(\"query\").head(4)\n",
    ")\n",
    "# sampling2lvl_cnts[\"tora-dsmath-final\"] = calc_lvl_avg_cnt(tora_dsmath_final_df)\n",
    "# print(f\"{sampling2lvl_cnts['tora-dsmath-final']=}\")"
   ]
  },
  {
   "cell_type": "code",
   "execution_count": null,
   "metadata": {},
   "outputs": [],
   "source": [
    "tora_df = pd.concat([tora_df, tora_dsmath_final_df])"
   ]
  },
  {
   "cell_type": "code",
   "execution_count": null,
   "metadata": {},
   "outputs": [
    {
     "name": "stdout",
     "output_type": "stream",
     "text": [
      "calc_coverage(tora_df, MATH_QUERY2LVL.keys())=0.934\n",
      "len(tora_df)=71973\n",
      "sampling2lvl_cnts['tora-final']={0.0: 5.0330523216914225, 1.0: 5.005309734513275, 2.0: 4.994810971089696, 3.0: 4.954773869346734, 4.0: 4.7745562130177515, 5.0: 3.8359375}\n"
     ]
    }
   ],
   "source": [
    "print(f\"{calc_coverage(tora_df, MATH_QUERY2LVL.keys())=}\")\n",
    "print(f\"{len(tora_df)=}\")\n",
    "sampling2lvl_cnts[\"tora-final\"] = calc_lvl_avg_cnt(tora_df)\n",
    "print(f\"{sampling2lvl_cnts['tora-final']=}\")"
   ]
  },
  {
   "cell_type": "markdown",
   "metadata": {},
   "source": [
    "## MARIO"
   ]
  },
  {
   "cell_type": "code",
   "execution_count": null,
   "metadata": {},
   "outputs": [
    {
     "name": "stdout",
     "output_type": "stream",
     "text": [
      "len(mario_df)=25462\n",
      "sampling2lvl_cnts['mario-gpt-greedy']={0: 1.858958918774254, 1: 1.9557522123893805, 2: 1.87175685693106, 3: 1.7575376884422111, 4: 1.5846153846153845, 5: 1.0694444444444444}\n",
      "calc_coverage(mario_df, MATH_QUERY2LVL.keys())=0.8146666666666667\n",
      "calc_coverage(mario_df, GSM8K_QUERY2N_STEP.keys())=0.9439314866854007\n"
     ]
    }
   ],
   "source": [
    "mario_gpt_greedy_samples: list[dict[str, str]] = [\n",
    "    sample\n",
    "    for sample in load_jsonl(OAI_OUTPUT_HOME / \"output_t0.3_n2.jsonl\")\n",
    "    if sample[\"correct\"]\n",
    "]\n",
    "assign_lvl(mario_gpt_greedy_samples)\n",
    "mario_df: pd.DataFrame = pd.DataFrame(mario_gpt_greedy_samples)\n",
    "print(f\"{len(mario_df)=}\")\n",
    "sampling2lvl_cnts[\"mario-gpt-greedy\"] = calc_lvl_avg_cnt(mario_df)\n",
    "print(f\"{sampling2lvl_cnts['mario-gpt-greedy']=}\")\n",
    "print(f\"{calc_coverage(mario_df, MATH_QUERY2LVL.keys())=}\")\n",
    "print(f\"{calc_coverage(mario_df, GSM8K_QUERY2N_STEP.keys())=}\")"
   ]
  },
  {
   "cell_type": "code",
   "execution_count": null,
   "metadata": {},
   "outputs": [
    {
     "name": "stdout",
     "output_type": "stream",
     "text": [
      "len(mario_df)=26461\n",
      "sampling2lvl_cnts['mario-gpt-sample']={0: 1.8930817610062893, 1: 1.9592920353982302, 2: 1.9021497405485546, 3: 1.8190954773869348, 4: 1.6792899408284023, 5: 1.26171875}\n",
      "calc_coverage(mario_df, MATH_QUERY2LVL.keys())=0.8744\n",
      "calc_coverage(mario_df, GSM8K_QUERY2N_STEP.keys())=0.9645390070921985\n"
     ]
    }
   ],
   "source": [
    "gpt_sample_samples: list[dict[str, str]] = [\n",
    "    sample\n",
    "    for sample in load_jsonl(OAI_OUTPUT_HOME / \"output_patch_t0.6_n2.jsonl\")\n",
    "    if sample[\"correct\"]\n",
    "]\n",
    "assign_lvl(gpt_sample_samples)\n",
    "gpt_sample_samples.extend(tora_gpt_sample_samples)\n",
    "mario_sample_df = pd.DataFrame(gpt_sample_samples)\n",
    "mario_sample_df = (\n",
    "    mario_sample_df[~mario_sample_df[\"query\"].isin(mario_df[\"query\"])]\n",
    "    .groupby(\"query\")\n",
    "    .head(2)\n",
    ")\n",
    "mario_df: pd.DataFrame = pd.concat([mario_df, mario_sample_df])\n",
    "print(f\"{len(mario_df)=}\")\n",
    "sampling2lvl_cnts[\"mario-gpt-sample\"] = calc_lvl_avg_cnt(mario_df)\n",
    "print(f\"{sampling2lvl_cnts['mario-gpt-sample']=}\")\n",
    "print(f\"{calc_coverage(mario_df, MATH_QUERY2LVL.keys())=}\")\n",
    "print(f\"{calc_coverage(mario_df, GSM8K_QUERY2N_STEP.keys())=}\")"
   ]
  },
  {
   "cell_type": "code",
   "execution_count": null,
   "metadata": {},
   "outputs": [
    {
     "name": "stdout",
     "output_type": "stream",
     "text": [
      "len(mario_df)=28809\n",
      "sampling2lvl_cnts['mario-final']={0.0: 2.021142780677104, 1.0: 2.007079646017699, 2.0: 1.98295033358043, 3.0: 1.939070351758794, 4.0: 1.8875739644970415, 5.0: 1.5707465277777777}\n",
      "calc_coverage(mario_df, MATH_QUERY2LVL.keys())=0.9305333333333333\n",
      "calc_coverage(mario_df, GSM8K_QUERY2N_STEP.keys())=0.997591328783621\n"
     ]
    }
   ],
   "source": [
    "mario_dsmath_raw_sample_df: pd.DataFrame = (\n",
    "    all_dsmath_df[\n",
    "        ~all_dsmath_df[\"query\"].str.strip().isin(mario_df[\"query\"].str.strip())\n",
    "    ]\n",
    "    .groupby(\"query\")\n",
    "    .head(100)\n",
    ")\n",
    "mario_dsmath_raw_sample_df = (\n",
    "    mario_dsmath_raw_sample_df[mario_dsmath_raw_sample_df[\"correct\"]]\n",
    "    .groupby(\"query\")\n",
    "    .head(4)\n",
    ")\n",
    "mario_df = pd.concat([mario_df, mario_dsmath_raw_sample_df])\n",
    "print(f\"{len(mario_df)=}\")\n",
    "sampling2lvl_cnts[\"mario-final\"] = calc_lvl_avg_cnt(mario_df)\n",
    "print(f\"{sampling2lvl_cnts['mario-final']=}\")\n",
    "print(f\"{calc_coverage(mario_df, MATH_QUERY2LVL.keys())=}\")\n",
    "print(f\"{calc_coverage(mario_df, GSM8K_QUERY2N_STEP.keys())=}\")"
   ]
  },
  {
   "cell_type": "markdown",
   "metadata": {},
   "source": [
    "## DART-Math"
   ]
  },
  {
   "cell_type": "code",
   "execution_count": null,
   "metadata": {},
   "outputs": [
    {
     "name": "stdout",
     "output_type": "stream",
     "text": [
      "dset=Dataset({\n",
      "    features: ['query', 'response', 'level'],\n",
      "    num_rows: 590705\n",
      "})\n",
      "sampling2lvl_cnts[dset_id]={0: 39.930951425130466, 1: 40.0, 2: 40.0, 3: 39.79899497487437, 4: 39.53905325443787, 5: 37.135416666666664}\n",
      "dset=Dataset({\n",
      "    features: ['query', 'response', 'level'],\n",
      "    num_rows: 585392\n",
      "})\n",
      "sampling2lvl_cnts[dset_id]={0: 8.49136892814131, 1: 14.28495575221239, 2: 33.51964418087472, 3: 54.94409547738694, 4: 79.58875739644971, 5: 107.06206597222223}\n"
     ]
    }
   ],
   "source": [
    "for dset_id in [\"dart-math-uniform\", \"dart-math-hard\"]:\n",
    "    dset: Dataset = load_dataset(f\"hkust-nlp/{dset_id}\", split=\"train\")\n",
    "    dset = dset.map(assign_sample_lvl, num_proc=16)\n",
    "    print(f\"{dset=}\")\n",
    "    df: pd.DataFrame = pd.DataFrame(dset)\n",
    "    sampling2lvl_cnts[dset_id] = calc_lvl_avg_cnt(df)\n",
    "    print(f\"{sampling2lvl_cnts[dset_id]=}\")"
   ]
  },
  {
   "cell_type": "markdown",
   "metadata": {},
   "source": [
    "## Summarize"
   ]
  },
  {
   "cell_type": "code",
   "execution_count": null,
   "metadata": {},
   "outputs": [
    {
     "name": "stdout",
     "output_type": "stream",
     "text": [
      "sampling2lvl_cnts={'tora-gpt-greedy': {0: 0.9304161648601632, 1: 0.9805309734513274, 2: 0.9481097108969607, 3: 0.8812814070351759, 4: 0.8041420118343195, 5: 0.5355902777777778}, 'tora-gpt-sample': {0: 1.04656764351666, 1: 1.0123893805309734, 2: 1.0467012601927355, 3: 1.1080402010050252, 4: 1.1431952662721894, 5: 1.0837673611111112}, 'tora-final': {0.0: 5.0330523216914225, 1.0: 5.005309734513275, 2.0: 4.994810971089696, 3.0: 4.954773869346734, 4.0: 4.7745562130177515, 5.0: 3.8359375}, 'mario-gpt-greedy': {0: 1.858958918774254, 1: 1.9557522123893805, 2: 1.87175685693106, 3: 1.7575376884422111, 4: 1.5846153846153845, 5: 1.0694444444444444}, 'mario-gpt-sample': {0: 1.8930817610062893, 1: 1.9592920353982302, 2: 1.9021497405485546, 3: 1.8190954773869348, 4: 1.6792899408284023, 5: 1.26171875}, 'mario-final': {0.0: 2.021142780677104, 1.0: 2.007079646017699, 2.0: 1.98295033358043, 3.0: 1.939070351758794, 4.0: 1.8875739644970415, 5.0: 1.5707465277777777}, 'dart-math-uniform': {0: 39.930951425130466, 1: 40.0, 2: 40.0, 3: 39.79899497487437, 4: 39.53905325443787, 5: 37.135416666666664}, 'dart-math-hard': {0: 8.49136892814131, 1: 14.28495575221239, 2: 33.51964418087472, 3: 54.94409547738694, 4: 79.58875739644971, 5: 107.06206597222223}}\n"
     ]
    }
   ],
   "source": [
    "print(f\"{sampling2lvl_cnts=}\")"
   ]
  },
  {
   "cell_type": "code",
   "execution_count": null,
   "metadata": {},
   "outputs": [
    {
     "data": {
      "text/html": [
       "<style type=\"text/css\">\n",
       "</style>\n",
       "<table id=\"T_62c52\">\n",
       "  <thead>\n",
       "    <tr>\n",
       "      <th class=\"blank level0\" >&nbsp;</th>\n",
       "      <th id=\"T_62c52_level0_col0\" class=\"col_heading level0 col0\" >0</th>\n",
       "      <th id=\"T_62c52_level0_col1\" class=\"col_heading level0 col1\" >1</th>\n",
       "      <th id=\"T_62c52_level0_col2\" class=\"col_heading level0 col2\" >2</th>\n",
       "      <th id=\"T_62c52_level0_col3\" class=\"col_heading level0 col3\" >3</th>\n",
       "      <th id=\"T_62c52_level0_col4\" class=\"col_heading level0 col4\" >4</th>\n",
       "      <th id=\"T_62c52_level0_col5\" class=\"col_heading level0 col5\" >5</th>\n",
       "    </tr>\n",
       "  </thead>\n",
       "  <tbody>\n",
       "    <tr>\n",
       "      <th id=\"T_62c52_level0_row0\" class=\"row_heading level0 row0\" >tora-gpt-greedy</th>\n",
       "      <td id=\"T_62c52_row0_col0\" class=\"data row0 col0\" >0.93</td>\n",
       "      <td id=\"T_62c52_row0_col1\" class=\"data row0 col1\" >0.98</td>\n",
       "      <td id=\"T_62c52_row0_col2\" class=\"data row0 col2\" >0.95</td>\n",
       "      <td id=\"T_62c52_row0_col3\" class=\"data row0 col3\" >0.88</td>\n",
       "      <td id=\"T_62c52_row0_col4\" class=\"data row0 col4\" >0.80</td>\n",
       "      <td id=\"T_62c52_row0_col5\" class=\"data row0 col5\" >0.54</td>\n",
       "    </tr>\n",
       "    <tr>\n",
       "      <th id=\"T_62c52_level0_row1\" class=\"row_heading level0 row1\" >tora-gpt-sample</th>\n",
       "      <td id=\"T_62c52_row1_col0\" class=\"data row1 col0\" >1.05</td>\n",
       "      <td id=\"T_62c52_row1_col1\" class=\"data row1 col1\" >1.01</td>\n",
       "      <td id=\"T_62c52_row1_col2\" class=\"data row1 col2\" >1.05</td>\n",
       "      <td id=\"T_62c52_row1_col3\" class=\"data row1 col3\" >1.11</td>\n",
       "      <td id=\"T_62c52_row1_col4\" class=\"data row1 col4\" >1.14</td>\n",
       "      <td id=\"T_62c52_row1_col5\" class=\"data row1 col5\" >1.08</td>\n",
       "    </tr>\n",
       "    <tr>\n",
       "      <th id=\"T_62c52_level0_row2\" class=\"row_heading level0 row2\" >tora-final</th>\n",
       "      <td id=\"T_62c52_row2_col0\" class=\"data row2 col0\" >5.03</td>\n",
       "      <td id=\"T_62c52_row2_col1\" class=\"data row2 col1\" >5.01</td>\n",
       "      <td id=\"T_62c52_row2_col2\" class=\"data row2 col2\" >4.99</td>\n",
       "      <td id=\"T_62c52_row2_col3\" class=\"data row2 col3\" >4.95</td>\n",
       "      <td id=\"T_62c52_row2_col4\" class=\"data row2 col4\" >4.77</td>\n",
       "      <td id=\"T_62c52_row2_col5\" class=\"data row2 col5\" >3.84</td>\n",
       "    </tr>\n",
       "    <tr>\n",
       "      <th id=\"T_62c52_level0_row3\" class=\"row_heading level0 row3\" >mario-gpt-greedy</th>\n",
       "      <td id=\"T_62c52_row3_col0\" class=\"data row3 col0\" >1.86</td>\n",
       "      <td id=\"T_62c52_row3_col1\" class=\"data row3 col1\" >1.96</td>\n",
       "      <td id=\"T_62c52_row3_col2\" class=\"data row3 col2\" >1.87</td>\n",
       "      <td id=\"T_62c52_row3_col3\" class=\"data row3 col3\" >1.76</td>\n",
       "      <td id=\"T_62c52_row3_col4\" class=\"data row3 col4\" >1.58</td>\n",
       "      <td id=\"T_62c52_row3_col5\" class=\"data row3 col5\" >1.07</td>\n",
       "    </tr>\n",
       "    <tr>\n",
       "      <th id=\"T_62c52_level0_row4\" class=\"row_heading level0 row4\" >mario-gpt-sample</th>\n",
       "      <td id=\"T_62c52_row4_col0\" class=\"data row4 col0\" >1.89</td>\n",
       "      <td id=\"T_62c52_row4_col1\" class=\"data row4 col1\" >1.96</td>\n",
       "      <td id=\"T_62c52_row4_col2\" class=\"data row4 col2\" >1.90</td>\n",
       "      <td id=\"T_62c52_row4_col3\" class=\"data row4 col3\" >1.82</td>\n",
       "      <td id=\"T_62c52_row4_col4\" class=\"data row4 col4\" >1.68</td>\n",
       "      <td id=\"T_62c52_row4_col5\" class=\"data row4 col5\" >1.26</td>\n",
       "    </tr>\n",
       "    <tr>\n",
       "      <th id=\"T_62c52_level0_row5\" class=\"row_heading level0 row5\" >mario-final</th>\n",
       "      <td id=\"T_62c52_row5_col0\" class=\"data row5 col0\" >2.02</td>\n",
       "      <td id=\"T_62c52_row5_col1\" class=\"data row5 col1\" >2.01</td>\n",
       "      <td id=\"T_62c52_row5_col2\" class=\"data row5 col2\" >1.98</td>\n",
       "      <td id=\"T_62c52_row5_col3\" class=\"data row5 col3\" >1.94</td>\n",
       "      <td id=\"T_62c52_row5_col4\" class=\"data row5 col4\" >1.89</td>\n",
       "      <td id=\"T_62c52_row5_col5\" class=\"data row5 col5\" >1.57</td>\n",
       "    </tr>\n",
       "    <tr>\n",
       "      <th id=\"T_62c52_level0_row6\" class=\"row_heading level0 row6\" >dart-math-uniform</th>\n",
       "      <td id=\"T_62c52_row6_col0\" class=\"data row6 col0\" >39.93</td>\n",
       "      <td id=\"T_62c52_row6_col1\" class=\"data row6 col1\" >40.00</td>\n",
       "      <td id=\"T_62c52_row6_col2\" class=\"data row6 col2\" >40.00</td>\n",
       "      <td id=\"T_62c52_row6_col3\" class=\"data row6 col3\" >39.80</td>\n",
       "      <td id=\"T_62c52_row6_col4\" class=\"data row6 col4\" >39.54</td>\n",
       "      <td id=\"T_62c52_row6_col5\" class=\"data row6 col5\" >37.14</td>\n",
       "    </tr>\n",
       "    <tr>\n",
       "      <th id=\"T_62c52_level0_row7\" class=\"row_heading level0 row7\" >dart-math-hard</th>\n",
       "      <td id=\"T_62c52_row7_col0\" class=\"data row7 col0\" >8.49</td>\n",
       "      <td id=\"T_62c52_row7_col1\" class=\"data row7 col1\" >14.28</td>\n",
       "      <td id=\"T_62c52_row7_col2\" class=\"data row7 col2\" >33.52</td>\n",
       "      <td id=\"T_62c52_row7_col3\" class=\"data row7 col3\" >54.94</td>\n",
       "      <td id=\"T_62c52_row7_col4\" class=\"data row7 col4\" >79.59</td>\n",
       "      <td id=\"T_62c52_row7_col5\" class=\"data row7 col5\" >107.06</td>\n",
       "    </tr>\n",
       "  </tbody>\n",
       "</table>\n"
      ],
      "text/plain": [
       "<pandas.io.formats.style.Styler>"
      ]
     },
     "execution_count": null,
     "metadata": {},
     "output_type": "execute_result"
    }
   ],
   "source": [
    "sampling_lvl_cnt_df: pd.DataFrame = pd.DataFrame(sampling2lvl_cnts)\n",
    "# .2f\n",
    "sampling_lvl_cnt_df.T.style.format(\"{:.2f}\")"
   ]
  }
 ],
 "metadata": {
  "kernelspec": {
   "display_name": "python3",
   "language": "python",
   "name": "python3"
  }
 },
 "nbformat": 4,
 "nbformat_minor": 2
}
